{
 "cells": [
  {
   "cell_type": "code",
   "execution_count": 1,
   "metadata": {
    "colab": {
     "base_uri": "https://localhost:8080/"
    },
    "id": "XhtIySLUc251",
    "outputId": "5f78ea6d-0a91-45ae-dc05-2be1a2b8cbd0"
   },
   "outputs": [
    {
     "name": "stderr",
     "output_type": "stream",
     "text": [
      "[nltk_data] Downloading package stopwords to\n",
      "[nltk_data]     C:\\Users\\AsusIran\\AppData\\Roaming\\nltk_data...\n",
      "[nltk_data]   Package stopwords is already up-to-date!\n"
     ]
    },
    {
     "data": {
      "text/plain": [
       "True"
      ]
     },
     "execution_count": 1,
     "metadata": {},
     "output_type": "execute_result"
    }
   ],
   "source": [
    "import pandas as pd\n",
    "import numpy as np\n",
    "import nltk\n",
    "import re\n",
    "from nltk.stem import WordNetLemmatizer\n",
    "from copy import deepcopy\n",
    "from tqdm import tqdm\n",
    "import matplotlib.pyplot as plt\n",
    "from tensorflow.keras import layers\n",
    "from tensorflow.keras.models import Sequential\n",
    "from tensorflow.keras.losses import BinaryCrossentropy\n",
    "from tensorflow.keras.optimizers import Adam\n",
    "from tensorflow.keras.metrics import AUC\n",
    "from tensorflow.keras.models import load_model\n",
    "from sklearn.metrics import classification_report\n",
    "from sklearn.utils import class_weight\n",
    "import nltk\n",
    "from nltk.corpus import stopwords\n",
    "nltk.download('stopwords')"
   ]
  },
  {
   "cell_type": "code",
   "execution_count": 2,
   "metadata": {
    "colab": {
     "base_uri": "https://localhost:8080/",
     "height": 423
    },
    "id": "1YWowBNxddWI",
    "outputId": "b30d127b-b0ef-4c00-949d-3a460fb83573"
   },
   "outputs": [],
   "source": [
    "df_train = pd.read_csv('train.csv')\n",
    "df_test = pd.read_csv('test.csv')\n",
    "\n",
    "\n",
    "df_train = df_train.merge(df_test)"
   ]
  },
  {
   "cell_type": "code",
   "execution_count": 4,
   "metadata": {
    "colab": {
     "base_uri": "https://localhost:8080/"
    },
    "id": "tFTNq0TGdrCm",
    "outputId": "823c61cb-ec19-4d0a-e833-5137700b8fcc"
   },
   "outputs": [
    {
     "data": {
      "text/plain": [
       "Series([], Name: label, dtype: int64)"
      ]
     },
     "execution_count": 4,
     "metadata": {},
     "output_type": "execute_result"
    }
   ],
   "source": [
    "df_train['label'].value_counts()"
   ]
  },
  {
   "cell_type": "code",
   "execution_count": 5,
   "metadata": {
    "id": "ScY09-sGd86o"
   },
   "outputs": [],
   "source": [
    "#!wget http://downloads.cs.stanford.edu/nlp/data/glove.6B.zip"
   ]
  },
  {
   "cell_type": "code",
   "execution_count": 6,
   "metadata": {
    "id": "i0Q1MFvreSyH"
   },
   "outputs": [],
   "source": [
    "#!unzip glove.6B.zip"
   ]
  },
  {
   "cell_type": "code",
   "execution_count": 7,
   "metadata": {
    "colab": {
     "base_uri": "https://localhost:8080/"
    },
    "id": "lCXt0U7a13xh",
    "outputId": "e9eddf4b-4809-46b2-df2b-96a430d0b8d7"
   },
   "outputs": [
    {
     "name": "stderr",
     "output_type": "stream",
     "text": [
      "400000it [00:07, 51796.30it/s]\n"
     ]
    }
   ],
   "source": [
    "embedding_index = {}\n",
    "f = open('/content/glove.6B.50d.txt', 'r', encoding ='utf-8')\n",
    "for line in tqdm(f):\n",
    "  values = line.split(' ')\n",
    "  word = values[0]\n",
    "  coesf = np.asarray([float(val) for val in values[1:]])\n",
    "  embedding_index[word] = coesf\n",
    "f.close()"
   ]
  },
  {
   "cell_type": "markdown",
   "metadata": {
    "id": "y36thEmz47VJ"
   },
   "source": [
    "Converts the remaining elements of values (the vector components) into a NumPy array of floats. Each value is converted to a float using a list comprehension.\n",
    "Adds the word as a key and its corresponding vector as the value to the embedding_index dictionary."
   ]
  },
  {
   "cell_type": "code",
   "execution_count": null,
   "metadata": {},
   "outputs": [],
   "source": [
    "embedding_index"
   ]
  },
  {
   "cell_type": "code",
   "execution_count": 9,
   "metadata": {
    "colab": {
     "base_uri": "https://localhost:8080/"
    },
    "id": "dgMgsPn0fvJG",
    "outputId": "95c65757-43c0-43a3-84ef-0e6d94d91ddd"
   },
   "outputs": [
    {
     "data": {
      "text/plain": [
       "400000"
      ]
     },
     "execution_count": 9,
     "metadata": {},
     "output_type": "execute_result"
    }
   ],
   "source": [
    "len(embedding_index)"
   ]
  },
  {
   "cell_type": "code",
   "execution_count": 10,
   "metadata": {
    "colab": {
     "base_uri": "https://localhost:8080/"
    },
    "id": "SnS3raK3ilhs",
    "outputId": "ede0a4d7-beb4-408e-98f1-0af5595217f4"
   },
   "outputs": [
    {
     "name": "stderr",
     "output_type": "stream",
     "text": [
      "[nltk_data] Downloading package wordnet to /root/nltk_data...\n",
      "[nltk_data]   Package wordnet is already up-to-date!\n"
     ]
    },
    {
     "data": {
      "text/plain": [
       "True"
      ]
     },
     "execution_count": 10,
     "metadata": {},
     "output_type": "execute_result"
    }
   ],
   "source": [
    "nltk.download('wordnet')"
   ]
  },
  {
   "cell_type": "markdown",
   "metadata": {
    "id": "d5BUbQMxopkw"
   },
   "source": [
    "#**Preprocessing - Vectorization**"
   ]
  },
  {
   "cell_type": "code",
   "execution_count": 11,
   "metadata": {
    "colab": {
     "base_uri": "https://localhost:8080/"
    },
    "id": "2tTd2UxVi7W0",
    "outputId": "37f0fe34-fd55-4d59-d938-4e61b46907fc"
   },
   "outputs": [
    {
     "data": {
      "text/plain": [
       "['listening', 'to', 'sad', 'songs', 'on', 'a', 'monday', 'morning']"
      ]
     },
     "execution_count": 11,
     "metadata": {},
     "output_type": "execute_result"
    }
   ],
   "source": [
    "tokenizer = nltk.RegexpTokenizer(r'\\w+')\n",
    "tokenizer.tokenize('listening to sad songs on a monday morning')"
   ]
  },
  {
   "cell_type": "code",
   "execution_count": 12,
   "metadata": {
    "colab": {
     "base_uri": "https://localhost:8080/",
     "height": 36
    },
    "id": "JeNGCbbEjn8_",
    "outputId": "c9342251-c2e3-4ad4-d699-0c23186a98d8"
   },
   "outputs": [
    {
     "data": {
      "application/vnd.google.colaboratory.intrinsic+json": {
       "type": "string"
      },
      "text/plain": [
       "'foot'"
      ]
     },
     "execution_count": 12,
     "metadata": {},
     "output_type": "execute_result"
    }
   ],
   "source": [
    "lemmatizer = WordNetLemmatizer()\n",
    "lemmatizer.lemmatize('feet')"
   ]
  },
  {
   "cell_type": "code",
   "execution_count": 13,
   "metadata": {
    "id": "-MrRbN32hX1P"
   },
   "outputs": [],
   "source": [
    "stops = set(stopwords.words('english'))"
   ]
  },
  {
   "cell_type": "code",
   "execution_count": 14,
   "metadata": {
    "colab": {
     "base_uri": "https://localhost:8080/",
     "height": 423
    },
    "id": "-B-a1PZlq5tL",
    "outputId": "dca13e95-68c6-46b3-930d-07402778deb6"
   },
   "outputs": [
    {
     "data": {
      "text/html": [
       "\n",
       "\n",
       "  <div id=\"df-0b3654ee-1bce-4a88-9d5a-395f1f1c2968\">\n",
       "    <div class=\"colab-df-container\">\n",
       "      <div>\n",
       "<style scoped>\n",
       "    .dataframe tbody tr th:only-of-type {\n",
       "        vertical-align: middle;\n",
       "    }\n",
       "\n",
       "    .dataframe tbody tr th {\n",
       "        vertical-align: top;\n",
       "    }\n",
       "\n",
       "    .dataframe thead th {\n",
       "        text-align: right;\n",
       "    }\n",
       "</style>\n",
       "<table border=\"1\" class=\"dataframe\">\n",
       "  <thead>\n",
       "    <tr style=\"text-align: right;\">\n",
       "      <th></th>\n",
       "      <th>id</th>\n",
       "      <th>label</th>\n",
       "      <th>tweet</th>\n",
       "      <th>final_text</th>\n",
       "    </tr>\n",
       "  </thead>\n",
       "  <tbody>\n",
       "    <tr>\n",
       "      <th>0</th>\n",
       "      <td>1</td>\n",
       "      <td>0</td>\n",
       "      <td>@user when a father is dysfunctional and is s...</td>\n",
       "      <td>@user when a father is dysfunctional and is s...</td>\n",
       "    </tr>\n",
       "    <tr>\n",
       "      <th>1</th>\n",
       "      <td>2</td>\n",
       "      <td>0</td>\n",
       "      <td>@user @user thanks for #lyft credit i can't us...</td>\n",
       "      <td>@user @user thanks for #lyft credit i can't us...</td>\n",
       "    </tr>\n",
       "    <tr>\n",
       "      <th>2</th>\n",
       "      <td>3</td>\n",
       "      <td>0</td>\n",
       "      <td>bihday your majesty</td>\n",
       "      <td>bihday your majesty</td>\n",
       "    </tr>\n",
       "    <tr>\n",
       "      <th>3</th>\n",
       "      <td>4</td>\n",
       "      <td>0</td>\n",
       "      <td>#model   i love u take with u all the time in ...</td>\n",
       "      <td>#model   i love u take with u all the time in ...</td>\n",
       "    </tr>\n",
       "    <tr>\n",
       "      <th>4</th>\n",
       "      <td>5</td>\n",
       "      <td>0</td>\n",
       "      <td>factsguide: society now    #motivation</td>\n",
       "      <td>factsguide: society now    #motivation</td>\n",
       "    </tr>\n",
       "    <tr>\n",
       "      <th>...</th>\n",
       "      <td>...</td>\n",
       "      <td>...</td>\n",
       "      <td>...</td>\n",
       "      <td>...</td>\n",
       "    </tr>\n",
       "    <tr>\n",
       "      <th>31957</th>\n",
       "      <td>31958</td>\n",
       "      <td>0</td>\n",
       "      <td>ate @user isz that youuu?ðððððð...</td>\n",
       "      <td>ate @user isz that youuu?ðððððð...</td>\n",
       "    </tr>\n",
       "    <tr>\n",
       "      <th>31958</th>\n",
       "      <td>31959</td>\n",
       "      <td>0</td>\n",
       "      <td>to see nina turner on the airwaves trying to...</td>\n",
       "      <td>to see nina turner on the airwaves trying to...</td>\n",
       "    </tr>\n",
       "    <tr>\n",
       "      <th>31959</th>\n",
       "      <td>31960</td>\n",
       "      <td>0</td>\n",
       "      <td>listening to sad songs on a monday morning otw...</td>\n",
       "      <td>listening to sad songs on a monday morning otw...</td>\n",
       "    </tr>\n",
       "    <tr>\n",
       "      <th>31960</th>\n",
       "      <td>31961</td>\n",
       "      <td>1</td>\n",
       "      <td>@user #sikh #temple vandalised in in #calgary,...</td>\n",
       "      <td>@user #sikh #temple vandalised in in #calgary,...</td>\n",
       "    </tr>\n",
       "    <tr>\n",
       "      <th>31961</th>\n",
       "      <td>31962</td>\n",
       "      <td>0</td>\n",
       "      <td>thank you @user for you follow</td>\n",
       "      <td>thank you @user for you follow</td>\n",
       "    </tr>\n",
       "  </tbody>\n",
       "</table>\n",
       "<p>31962 rows × 4 columns</p>\n",
       "</div>\n",
       "      <button class=\"colab-df-convert\" onclick=\"convertToInteractive('df-0b3654ee-1bce-4a88-9d5a-395f1f1c2968')\"\n",
       "              title=\"Convert this dataframe to an interactive table.\"\n",
       "              style=\"display:none;\">\n",
       "\n",
       "  <svg xmlns=\"http://www.w3.org/2000/svg\" height=\"24px\"viewBox=\"0 0 24 24\"\n",
       "       width=\"24px\">\n",
       "    <path d=\"M0 0h24v24H0V0z\" fill=\"none\"/>\n",
       "    <path d=\"M18.56 5.44l.94 2.06.94-2.06 2.06-.94-2.06-.94-.94-2.06-.94 2.06-2.06.94zm-11 1L8.5 8.5l.94-2.06 2.06-.94-2.06-.94L8.5 2.5l-.94 2.06-2.06.94zm10 10l.94 2.06.94-2.06 2.06-.94-2.06-.94-.94-2.06-.94 2.06-2.06.94z\"/><path d=\"M17.41 7.96l-1.37-1.37c-.4-.4-.92-.59-1.43-.59-.52 0-1.04.2-1.43.59L10.3 9.45l-7.72 7.72c-.78.78-.78 2.05 0 2.83L4 21.41c.39.39.9.59 1.41.59.51 0 1.02-.2 1.41-.59l7.78-7.78 2.81-2.81c.8-.78.8-2.07 0-2.86zM5.41 20L4 18.59l7.72-7.72 1.47 1.35L5.41 20z\"/>\n",
       "  </svg>\n",
       "      </button>\n",
       "\n",
       "\n",
       "\n",
       "    <div id=\"df-785019aa-b2a3-4c76-ba1c-13420d060acd\">\n",
       "      <button class=\"colab-df-quickchart\" onclick=\"quickchart('df-785019aa-b2a3-4c76-ba1c-13420d060acd')\"\n",
       "              title=\"Suggest charts.\"\n",
       "              style=\"display:none;\">\n",
       "\n",
       "<svg xmlns=\"http://www.w3.org/2000/svg\" height=\"24px\"viewBox=\"0 0 24 24\"\n",
       "     width=\"24px\">\n",
       "    <g>\n",
       "        <path d=\"M19 3H5c-1.1 0-2 .9-2 2v14c0 1.1.9 2 2 2h14c1.1 0 2-.9 2-2V5c0-1.1-.9-2-2-2zM9 17H7v-7h2v7zm4 0h-2V7h2v10zm4 0h-2v-4h2v4z\"/>\n",
       "    </g>\n",
       "</svg>\n",
       "      </button>\n",
       "    </div>\n",
       "\n",
       "<style>\n",
       "  .colab-df-quickchart {\n",
       "    background-color: #E8F0FE;\n",
       "    border: none;\n",
       "    border-radius: 50%;\n",
       "    cursor: pointer;\n",
       "    display: none;\n",
       "    fill: #1967D2;\n",
       "    height: 32px;\n",
       "    padding: 0 0 0 0;\n",
       "    width: 32px;\n",
       "  }\n",
       "\n",
       "  .colab-df-quickchart:hover {\n",
       "    background-color: #E2EBFA;\n",
       "    box-shadow: 0px 1px 2px rgba(60, 64, 67, 0.3), 0px 1px 3px 1px rgba(60, 64, 67, 0.15);\n",
       "    fill: #174EA6;\n",
       "  }\n",
       "\n",
       "  [theme=dark] .colab-df-quickchart {\n",
       "    background-color: #3B4455;\n",
       "    fill: #D2E3FC;\n",
       "  }\n",
       "\n",
       "  [theme=dark] .colab-df-quickchart:hover {\n",
       "    background-color: #434B5C;\n",
       "    box-shadow: 0px 1px 3px 1px rgba(0, 0, 0, 0.15);\n",
       "    filter: drop-shadow(0px 1px 2px rgba(0, 0, 0, 0.3));\n",
       "    fill: #FFFFFF;\n",
       "  }\n",
       "</style>\n",
       "\n",
       "    <script>\n",
       "      async function quickchart(key) {\n",
       "        const containerElement = document.querySelector('#' + key);\n",
       "        const charts = await google.colab.kernel.invokeFunction(\n",
       "            'suggestCharts', [key], {});\n",
       "      }\n",
       "    </script>\n",
       "\n",
       "      <script>\n",
       "\n",
       "function displayQuickchartButton(domScope) {\n",
       "  let quickchartButtonEl =\n",
       "    domScope.querySelector('#df-785019aa-b2a3-4c76-ba1c-13420d060acd button.colab-df-quickchart');\n",
       "  quickchartButtonEl.style.display =\n",
       "    google.colab.kernel.accessAllowed ? 'block' : 'none';\n",
       "}\n",
       "\n",
       "        displayQuickchartButton(document);\n",
       "      </script>\n",
       "      <style>\n",
       "    .colab-df-container {\n",
       "      display:flex;\n",
       "      flex-wrap:wrap;\n",
       "      gap: 12px;\n",
       "    }\n",
       "\n",
       "    .colab-df-convert {\n",
       "      background-color: #E8F0FE;\n",
       "      border: none;\n",
       "      border-radius: 50%;\n",
       "      cursor: pointer;\n",
       "      display: none;\n",
       "      fill: #1967D2;\n",
       "      height: 32px;\n",
       "      padding: 0 0 0 0;\n",
       "      width: 32px;\n",
       "    }\n",
       "\n",
       "    .colab-df-convert:hover {\n",
       "      background-color: #E2EBFA;\n",
       "      box-shadow: 0px 1px 2px rgba(60, 64, 67, 0.3), 0px 1px 3px 1px rgba(60, 64, 67, 0.15);\n",
       "      fill: #174EA6;\n",
       "    }\n",
       "\n",
       "    [theme=dark] .colab-df-convert {\n",
       "      background-color: #3B4455;\n",
       "      fill: #D2E3FC;\n",
       "    }\n",
       "\n",
       "    [theme=dark] .colab-df-convert:hover {\n",
       "      background-color: #434B5C;\n",
       "      box-shadow: 0px 1px 3px 1px rgba(0, 0, 0, 0.15);\n",
       "      filter: drop-shadow(0px 1px 2px rgba(0, 0, 0, 0.3));\n",
       "      fill: #FFFFFF;\n",
       "    }\n",
       "  </style>\n",
       "\n",
       "      <script>\n",
       "        const buttonEl =\n",
       "          document.querySelector('#df-0b3654ee-1bce-4a88-9d5a-395f1f1c2968 button.colab-df-convert');\n",
       "        buttonEl.style.display =\n",
       "          google.colab.kernel.accessAllowed ? 'block' : 'none';\n",
       "\n",
       "        async function convertToInteractive(key) {\n",
       "          const element = document.querySelector('#df-0b3654ee-1bce-4a88-9d5a-395f1f1c2968');\n",
       "          const dataTable =\n",
       "            await google.colab.kernel.invokeFunction('convertToInteractive',\n",
       "                                                     [key], {});\n",
       "          if (!dataTable) return;\n",
       "\n",
       "          const docLinkHtml = 'Like what you see? Visit the ' +\n",
       "            '<a target=\"_blank\" href=https://colab.research.google.com/notebooks/data_table.ipynb>data table notebook</a>'\n",
       "            + ' to learn more about interactive tables.';\n",
       "          element.innerHTML = '';\n",
       "          dataTable['output_type'] = 'display_data';\n",
       "          await google.colab.output.renderOutput(dataTable, element);\n",
       "          const docLink = document.createElement('div');\n",
       "          docLink.innerHTML = docLinkHtml;\n",
       "          element.appendChild(docLink);\n",
       "        }\n",
       "      </script>\n",
       "    </div>\n",
       "  </div>\n"
      ],
      "text/plain": [
       "          id  label                                              tweet  \\\n",
       "0          1      0   @user when a father is dysfunctional and is s...   \n",
       "1          2      0  @user @user thanks for #lyft credit i can't us...   \n",
       "2          3      0                                bihday your majesty   \n",
       "3          4      0  #model   i love u take with u all the time in ...   \n",
       "4          5      0             factsguide: society now    #motivation   \n",
       "...      ...    ...                                                ...   \n",
       "31957  31958      0  ate @user isz that youuu?ðððððð...   \n",
       "31958  31959      0    to see nina turner on the airwaves trying to...   \n",
       "31959  31960      0  listening to sad songs on a monday morning otw...   \n",
       "31960  31961      1  @user #sikh #temple vandalised in in #calgary,...   \n",
       "31961  31962      0                   thank you @user for you follow     \n",
       "\n",
       "                                              final_text  \n",
       "0       @user when a father is dysfunctional and is s...  \n",
       "1      @user @user thanks for #lyft credit i can't us...  \n",
       "2                                    bihday your majesty  \n",
       "3      #model   i love u take with u all the time in ...  \n",
       "4                 factsguide: society now    #motivation  \n",
       "...                                                  ...  \n",
       "31957  ate @user isz that youuu?ðððððð...  \n",
       "31958    to see nina turner on the airwaves trying to...  \n",
       "31959  listening to sad songs on a monday morning otw...  \n",
       "31960  @user #sikh #temple vandalised in in #calgary,...  \n",
       "31961                   thank you @user for you follow    \n",
       "\n",
       "[31962 rows x 4 columns]"
      ]
     },
     "execution_count": 14,
     "metadata": {},
     "output_type": "execute_result"
    }
   ],
   "source": [
    "df_train['final_text']  = df_train['tweet']\n",
    "df_train"
   ]
  },
  {
   "cell_type": "code",
   "execution_count": 15,
   "metadata": {
    "id": "gk_L6sNLqbj7"
   },
   "outputs": [],
   "source": [
    "# Remove url\n",
    "def remove_url(text):\n",
    "    url = re.compile(r'https?://\\S+|www\\.\\S+')\n",
    "    return url.sub(r'',text)\n",
    "\n",
    "# Remove punct\n",
    "def remove_punct(text):\n",
    "    table = str.maketrans('', '', string.punctuation)\n",
    "    return text.translate(table)\n",
    "\n",
    "# Remove html\n",
    "def remove_html(text):\n",
    "    html=re.compile(r'<.*?>')\n",
    "    return html.sub(r'',text)\n",
    "\n",
    "# Remove @username\n",
    "def remove_username(text):\n",
    "    return re.sub('@[^\\s]+','',text)\n",
    "\n",
    "# Remove emojis\n",
    "def remove_emoji(text):\n",
    "    emoji_pattern = re.compile(\"[\"\n",
    "                           u\"\\U0001F600-\\U0001F64F\"  # emoticons\n",
    "                           u\"\\U0001F300-\\U0001F5FF\"  # symbols & pictographs\n",
    "                           u\"\\U0001F680-\\U0001F6FF\"  # transport & map symbols\n",
    "                           u\"\\U0001F1E0-\\U0001F1FF\"  # flags (iOS)\n",
    "                           u\"\\U00002702-\\U000027B0\"\n",
    "                           u\"\\U000024C2-\\U0001F251\"\n",
    "                           \"]+\", flags=re.UNICODE)\n",
    "    return emoji_pattern.sub(r'', text)\n",
    "\n",
    "\n",
    "# Seperate alphanumeric\n",
    "def seperate_alphanumeric(text):\n",
    "    words = text\n",
    "    words = re.findall(r\"[^\\W\\d_]+|\\d+\", words)\n",
    "    return \" \".join(words)\n",
    "\n",
    "def cont_rep_char(text):\n",
    "    tchr = text.group(0)\n",
    "\n",
    "    if len(tchr) > 1:\n",
    "        return tchr[0:2]\n",
    "\n",
    "def unique_char(rep, text):\n",
    "    substitute = re.sub(r'(\\w)\\1+', rep, text)\n",
    "    return substitute\n",
    "\n",
    "def char(text):\n",
    "    substitute = re.sub(r'[^a-zA-Z]',' ',text)\n",
    "    return substitute\n",
    "\n"
   ]
  },
  {
   "cell_type": "code",
   "execution_count": 16,
   "metadata": {
    "id": "4ddcjZLjrVUL"
   },
   "outputs": [],
   "source": [
    "# Apply functions on tweets\n",
    "df_train['final_text'] = df_train['final_text'].apply(lambda x : remove_username(x))\n",
    "df_train['final_text'] = df_train['final_text'].apply(lambda x : remove_url(x))\n",
    "df_train['final_text'] = df_train['final_text'].apply(lambda x : remove_emoji(x))\n",
    "df_train['final_text'] = df_train['final_text'].apply(lambda x : seperate_alphanumeric(x))\n",
    "df_train['final_text'] = df_train['final_text'].apply(lambda x : unique_char(cont_rep_char,x))\n",
    "df_train['final_text'] = df_train['final_text'].apply(lambda x : char(x))\n",
    "\n"
   ]
  },
  {
   "cell_type": "code",
   "execution_count": 17,
   "metadata": {
    "colab": {
     "base_uri": "https://localhost:8080/"
    },
    "id": "DdzGLUxsr_nv",
    "outputId": "9a5ba2a1-b5e0-4aa2-a9c3-74d2c7f9c900"
   },
   "outputs": [
    {
     "data": {
      "text/plain": [
       "0        when a father is dysfunctional and is so selfi...\n",
       "1        thanks for lyft credit i can t use cause they ...\n",
       "2                                      bihday your majesty\n",
       "3        model i love u take with u all the time in ur ...\n",
       "4                        factsguide society now motivation\n",
       "                               ...                        \n",
       "31957              ate isz that youu                      \n",
       "31958    to see nina turner on the airwaves trying to w...\n",
       "31959    listening to sad songs on a monday morning otw...\n",
       "31960    sikh temple vandalised in in calgary wso conde...\n",
       "31961                             thank you for you follow\n",
       "Name: final_text, Length: 31962, dtype: object"
      ]
     },
     "execution_count": 17,
     "metadata": {},
     "output_type": "execute_result"
    }
   ],
   "source": [
    "df_train['final_text']"
   ]
  },
  {
   "cell_type": "code",
   "execution_count": 18,
   "metadata": {
    "id": "Md7uHmYbkMsY"
   },
   "outputs": [],
   "source": [
    "def Preprocessing_one(s):\n",
    "  tokens = tokenizer.tokenize(s)\n",
    "  tokens_lower = [x.lower() for x in tokens ]\n",
    "  tokens_lower_stop = [x for x in tokens_lower if not x in stops]\n",
    "  tokens_lemmatized = [lemmatizer.lemmatize(x) for x in tokens_lower_stop]\n",
    "  useful_tokens = [x for x in tokens_lemmatized if x in embedding_index]\n",
    "  return useful_tokens"
   ]
  },
  {
   "cell_type": "code",
   "execution_count": 19,
   "metadata": {
    "id": "MbcVq_Kx70d6"
   },
   "outputs": [],
   "source": [
    "def combine_vectorization(text, glove = embedding_index):\n",
    "  text_preprocessed = Preprocessing_one(text)\n",
    "  vectors = []\n",
    "\n",
    "  for token in text_preprocessed:\n",
    "    if token not in glove:\n",
    "      continue\n",
    "    token_vec = glove[token]\n",
    "    vectors.append(token_vec)\n",
    "\n",
    "  return np.array(vectors, dtype='float')"
   ]
  },
  {
   "cell_type": "code",
   "execution_count": 20,
   "metadata": {
    "colab": {
     "base_uri": "https://localhost:8080/"
    },
    "id": "mXUlcOVXooik",
    "outputId": "39374677-9c28-441c-8671-f3ae9c213e2c"
   },
   "outputs": [
    {
     "name": "stdout",
     "output_type": "stream",
     "text": [
      "(5, 50)\n"
     ]
    }
   ],
   "source": [
    "\n",
    "print(combine_vectorization('listening to sad songs on a Mondaysss Morning').shape)"
   ]
  },
  {
   "cell_type": "markdown",
   "metadata": {
    "id": "-mYwXGaP-nR8"
   },
   "source": [
    "# **Spliting Data**"
   ]
  },
  {
   "cell_type": "code",
   "execution_count": 21,
   "metadata": {
    "colab": {
     "base_uri": "https://localhost:8080/"
    },
    "id": "c4nbczUvpFxI",
    "outputId": "91c711c0-321f-4198-c944-3855f9a9d7a6"
   },
   "outputs": [
    {
     "data": {
      "text/plain": [
       "(22373, 4794, 4795)"
      ]
     },
     "execution_count": 21,
     "metadata": {},
     "output_type": "execute_result"
    }
   ],
   "source": [
    "df_train = df_train.sample(frac=1, random_state=1231)\n",
    "df_train.reset_index(drop=True, inplace=True)\n",
    "\n",
    "split_index_1 = int(len(df_train) * 0.7)\n",
    "split_index_2 = int(len(df_train) * 0.85)\n",
    "\n",
    "train_df, val_df, test_df = df_train[:split_index_1], df_train[split_index_1:split_index_2], df_train[split_index_2:]\n",
    "\n",
    "len(train_df), len(val_df), len(test_df)"
   ]
  },
  {
   "cell_type": "markdown",
   "metadata": {
    "id": "QMQb-P7lmVv4"
   },
   "source": [
    "# **Preparing data and Pad Sequence**"
   ]
  },
  {
   "cell_type": "code",
   "execution_count": 22,
   "metadata": {
    "id": "aUKnrUGY_uQ8"
   },
   "outputs": [],
   "source": [
    "def prepare_x_y(data):\n",
    "\n",
    "  y = data['label'].to_numpy().astype(int)\n",
    "\n",
    "  all_vec_seq = []\n",
    "\n",
    "  for text in data['final_text']:\n",
    "    text_as_vector_seq = combine_vectorization(text)\n",
    "\n",
    "    if text_as_vector_seq.shape[0] == 0:\n",
    "      text_as_vector_seq = np.zeros(shape= (1, 50))\n",
    "\n",
    "    all_vec_seq.append(text_as_vector_seq)\n",
    "\n",
    "  return all_vec_seq, y"
   ]
  },
  {
   "cell_type": "code",
   "execution_count": 23,
   "metadata": {
    "colab": {
     "base_uri": "https://localhost:8080/"
    },
    "id": "SUN0sliZsra5",
    "outputId": "4028dfae-970a-4b35-da44-23771ef075d9"
   },
   "outputs": [
    {
     "name": "stdout",
     "output_type": "stream",
     "text": [
      "22373\n"
     ]
    }
   ],
   "source": [
    "xtrain, ytrain = prepare_x_y(train_df)\n",
    "print(len(xtrain))"
   ]
  },
  {
   "cell_type": "code",
   "execution_count": 24,
   "metadata": {
    "colab": {
     "base_uri": "https://localhost:8080/"
    },
    "id": "NY1v9sc-Crog",
    "outputId": "f755e208-86b7-4135-d2ac-3f732c6da515"
   },
   "outputs": [
    {
     "name": "stdout",
     "output_type": "stream",
     "text": [
      "4795\n"
     ]
    }
   ],
   "source": [
    "xtest, ytest = prepare_x_y(test_df)\n",
    "print(len(xtest))"
   ]
  },
  {
   "cell_type": "code",
   "execution_count": 25,
   "metadata": {
    "colab": {
     "base_uri": "https://localhost:8080/"
    },
    "id": "uaLZ4N45CxxR",
    "outputId": "c6d82d1c-66f0-4b7a-97dd-a74f910dcd53"
   },
   "outputs": [
    {
     "name": "stdout",
     "output_type": "stream",
     "text": [
      "4794\n"
     ]
    }
   ],
   "source": [
    "X_val, y_val = prepare_x_y(val_df)\n",
    "print(len(X_val))"
   ]
  },
  {
   "cell_type": "code",
   "execution_count": 26,
   "metadata": {
    "id": "BIqk3aJpIgJz"
   },
   "outputs": [],
   "source": [
    "def pad_sequence(text, desired_sequence_lenght= 57):\n",
    "  xcopy = deepcopy(text)\n",
    "\n",
    "  for i , x in enumerate(text):\n",
    "    x_seq_len = x.shape[0]\n",
    "    sequence_lenght_difference = desired_sequence_lenght - x_seq_len\n",
    "\n",
    "    pad = np.zeros(shape=(sequence_lenght_difference, 50))\n",
    "\n",
    "    xcopy[i] = np.concatenate([x, pad])\n",
    "\n",
    "  return np.array(xcopy).astype(float)"
   ]
  },
  {
   "cell_type": "code",
   "execution_count": 27,
   "metadata": {
    "colab": {
     "base_uri": "https://localhost:8080/"
    },
    "id": "PeRklNu9IgFJ",
    "outputId": "2908b396-ec5f-42e5-d67f-34f796afc507"
   },
   "outputs": [
    {
     "data": {
      "text/plain": [
       "(22373, 57, 50)"
      ]
     },
     "execution_count": 27,
     "metadata": {},
     "output_type": "execute_result"
    }
   ],
   "source": [
    "xtrain_pad = pad_sequence(xtrain)\n",
    "xtrain_pad.shape"
   ]
  },
  {
   "cell_type": "code",
   "execution_count": 28,
   "metadata": {
    "colab": {
     "base_uri": "https://localhost:8080/"
    },
    "id": "b8npg4YBOt0Y",
    "outputId": "9a60c651-24b7-476a-f568-379b50e97820"
   },
   "outputs": [
    {
     "data": {
      "text/plain": [
       "(4795, 57, 50)"
      ]
     },
     "execution_count": 28,
     "metadata": {},
     "output_type": "execute_result"
    }
   ],
   "source": [
    "xtest_pad = pad_sequence(xtest)\n",
    "xtest_pad.shape"
   ]
  },
  {
   "cell_type": "code",
   "execution_count": 29,
   "metadata": {
    "colab": {
     "base_uri": "https://localhost:8080/"
    },
    "id": "JO7BMXVRPD64",
    "outputId": "63509481-d8a1-4ae5-c07e-3e7190366504"
   },
   "outputs": [
    {
     "data": {
      "text/plain": [
       "(4794, 57, 50)"
      ]
     },
     "execution_count": 29,
     "metadata": {},
     "output_type": "execute_result"
    }
   ],
   "source": [
    "xval_pad = pad_sequence(X_val)\n",
    "xval_pad.shape"
   ]
  },
  {
   "cell_type": "markdown",
   "metadata": {
    "id": "nUiHj4ZnUvuh"
   },
   "source": [
    "# **LSTM MODEL**"
   ]
  },
  {
   "cell_type": "code",
   "execution_count": 30,
   "metadata": {
    "colab": {
     "base_uri": "https://localhost:8080/"
    },
    "id": "GlTkiAJnwGyg",
    "outputId": "6aee4743-5d67-4a83-a5a9-fa90b2024384"
   },
   "outputs": [
    {
     "name": "stdout",
     "output_type": "stream",
     "text": [
      "Model: \"sequential\"\n",
      "_________________________________________________________________\n",
      " Layer (type)                Output Shape              Param #   \n",
      "=================================================================\n",
      " lstm (LSTM)                 (None, 57, 256)           314368    \n",
      "                                                                 \n",
      " dropout (Dropout)           (None, 57, 256)           0         \n",
      "                                                                 \n",
      " lstm_1 (LSTM)               (None, 57, 256)           525312    \n",
      "                                                                 \n",
      " dropout_1 (Dropout)         (None, 57, 256)           0         \n",
      "                                                                 \n",
      " lstm_2 (LSTM)               (None, 57, 128)           197120    \n",
      "                                                                 \n",
      " layer_normalization (LayerN  (None, 57, 128)          256       \n",
      " ormalization)                                                   \n",
      "                                                                 \n",
      " dropout_2 (Dropout)         (None, 57, 128)           0         \n",
      "                                                                 \n",
      " lstm_3 (LSTM)               (None, 57, 128)           131584    \n",
      "                                                                 \n",
      " layer_normalization_1 (Laye  (None, 57, 128)          256       \n",
      " rNormalization)                                                 \n",
      "                                                                 \n",
      " dropout_3 (Dropout)         (None, 57, 128)           0         \n",
      "                                                                 \n",
      " lstm_4 (LSTM)               (None, 57, 64)            49408     \n",
      "                                                                 \n",
      " dropout_4 (Dropout)         (None, 57, 64)            0         \n",
      "                                                                 \n",
      " lstm_5 (LSTM)               (None, 57, 64)            33024     \n",
      "                                                                 \n",
      " dropout_5 (Dropout)         (None, 57, 64)            0         \n",
      "                                                                 \n",
      " lstm_6 (LSTM)               (None, 57, 32)            12416     \n",
      "                                                                 \n",
      " layer_normalization_2 (Laye  (None, 57, 32)           64        \n",
      " rNormalization)                                                 \n",
      "                                                                 \n",
      " dropout_6 (Dropout)         (None, 57, 32)            0         \n",
      "                                                                 \n",
      " flatten (Flatten)           (None, 1824)              0         \n",
      "                                                                 \n",
      " dense (Dense)               (None, 1)                 1825      \n",
      "                                                                 \n",
      "=================================================================\n",
      "Total params: 1,265,633\n",
      "Trainable params: 1,265,633\n",
      "Non-trainable params: 0\n",
      "_________________________________________________________________\n"
     ]
    }
   ],
   "source": [
    "\n",
    "model = Sequential([])\n",
    "\n",
    "model.add(layers.Input(shape=(57, 50)))\n",
    "model.add(layers.LSTM(256, return_sequences=True))\n",
    "model.add(layers.Dropout(0.3))\n",
    "model.add(layers.LSTM(256, return_sequences=True))\n",
    "model.add(layers.Dropout(0.3))\n",
    "model.add(layers.LSTM(128, return_sequences=True))\n",
    "model.add(layers.LayerNormalization())\n",
    "model.add(layers.Dropout(0.3))\n",
    "model.add(layers.LSTM(128, return_sequences=True))\n",
    "model.add(layers.LayerNormalization())\n",
    "model.add(layers.Dropout(0.3))\n",
    "model.add(layers.LSTM(64, return_sequences=True))\n",
    "model.add(layers.Dropout(0.3))\n",
    "model.add(layers.LSTM(64, return_sequences=True))\n",
    "model.add(layers.Dropout(0.3))\n",
    "model.add(layers.LSTM(32, return_sequences=True))\n",
    "model.add(layers.LayerNormalization())\n",
    "model.add(layers.Dropout(0.3))\n",
    "model.add(layers.Flatten())\n",
    "\n",
    "model.add(layers.Dense(1, activation='sigmoid'))\n",
    "\n",
    "model.compile(optimizer='Adam', loss= BinaryCrossentropy(),  metrics=['accuracy' ])\n",
    "\n",
    "model.summary()"
   ]
  },
  {
   "cell_type": "code",
   "execution_count": 31,
   "metadata": {
    "colab": {
     "base_uri": "https://localhost:8080/"
    },
    "id": "sR0kj1EkSTfC",
    "outputId": "2ada9ee7-a1d9-4e0f-cc07-91b9f025610f"
   },
   "outputs": [
    {
     "data": {
      "text/plain": [
       "{0: 0.5377187079407806, 1: 7.128010704727921}"
      ]
     },
     "execution_count": 31,
     "metadata": {},
     "output_type": "execute_result"
    }
   ],
   "source": [
    "weights = class_weight.compute_class_weight(class_weight='balanced' ,classes= np.unique(ytrain) , y = df_train['label'].to_numpy().astype(int))\n",
    "weights = {i : weights[i] for i in range(2)}\n",
    "weights"
   ]
  },
  {
   "cell_type": "code",
   "execution_count": 32,
   "metadata": {
    "colab": {
     "base_uri": "https://localhost:8080/"
    },
    "id": "HvHCpF8FxY-U",
    "outputId": "27c76c1c-583f-4467-9598-e3f9f008c32c"
   },
   "outputs": [
    {
     "name": "stdout",
     "output_type": "stream",
     "text": [
      "Epoch 1/100\n",
      "700/700 [==============================] - 43s 33ms/step - loss: 0.6298 - accuracy: 0.7174 - val_loss: 0.2355 - val_accuracy: 0.9070\n",
      "Epoch 2/100\n",
      "700/700 [==============================] - 20s 28ms/step - loss: 0.4974 - accuracy: 0.7940 - val_loss: 0.3884 - val_accuracy: 0.8486\n",
      "Epoch 3/100\n",
      "700/700 [==============================] - 21s 31ms/step - loss: 0.4594 - accuracy: 0.8121 - val_loss: 0.3524 - val_accuracy: 0.8467\n",
      "Epoch 4/100\n",
      "700/700 [==============================] - 20s 28ms/step - loss: 0.4138 - accuracy: 0.8314 - val_loss: 0.3392 - val_accuracy: 0.8838\n",
      "Epoch 5/100\n",
      "700/700 [==============================] - 22s 32ms/step - loss: 0.3941 - accuracy: 0.8377 - val_loss: 0.3008 - val_accuracy: 0.8774\n",
      "Epoch 6/100\n",
      "700/700 [==============================] - 21s 31ms/step - loss: 0.3592 - accuracy: 0.8487 - val_loss: 0.2555 - val_accuracy: 0.8899\n",
      "Epoch 7/100\n",
      "700/700 [==============================] - 21s 30ms/step - loss: 0.3478 - accuracy: 0.8545 - val_loss: 0.2305 - val_accuracy: 0.9195\n",
      "Epoch 8/100\n",
      "700/700 [==============================] - 22s 32ms/step - loss: 0.3229 - accuracy: 0.8667 - val_loss: 0.5517 - val_accuracy: 0.7214\n",
      "Epoch 9/100\n",
      "700/700 [==============================] - 20s 29ms/step - loss: 0.3038 - accuracy: 0.8765 - val_loss: 0.3005 - val_accuracy: 0.8859\n",
      "Epoch 10/100\n",
      "700/700 [==============================] - 20s 28ms/step - loss: 0.2943 - accuracy: 0.8807 - val_loss: 0.4320 - val_accuracy: 0.8090\n",
      "Epoch 11/100\n",
      "700/700 [==============================] - 21s 31ms/step - loss: 0.2806 - accuracy: 0.8767 - val_loss: 0.8018 - val_accuracy: 0.5260\n",
      "Epoch 12/100\n",
      "700/700 [==============================] - 21s 29ms/step - loss: 0.2729 - accuracy: 0.8896 - val_loss: 0.4965 - val_accuracy: 0.7846\n",
      "Epoch 13/100\n",
      "700/700 [==============================] - 21s 30ms/step - loss: 0.2911 - accuracy: 0.8715 - val_loss: 0.4029 - val_accuracy: 0.8225\n",
      "Epoch 14/100\n",
      "700/700 [==============================] - 20s 28ms/step - loss: 0.2675 - accuracy: 0.8860 - val_loss: 0.3921 - val_accuracy: 0.8313\n",
      "Epoch 15/100\n",
      "700/700 [==============================] - 20s 29ms/step - loss: 0.2535 - accuracy: 0.8991 - val_loss: 0.2606 - val_accuracy: 0.8891\n",
      "Epoch 16/100\n",
      "700/700 [==============================] - 20s 28ms/step - loss: 0.2341 - accuracy: 0.9069 - val_loss: 0.2587 - val_accuracy: 0.9107\n",
      "Epoch 17/100\n",
      "700/700 [==============================] - 20s 29ms/step - loss: 0.2361 - accuracy: 0.9042 - val_loss: 0.2552 - val_accuracy: 0.8957\n",
      "Epoch 18/100\n",
      "700/700 [==============================] - 20s 29ms/step - loss: 0.2120 - accuracy: 0.9204 - val_loss: 0.2319 - val_accuracy: 0.9001\n",
      "Epoch 19/100\n",
      "700/700 [==============================] - 22s 31ms/step - loss: 0.1969 - accuracy: 0.9205 - val_loss: 0.2335 - val_accuracy: 0.9143\n",
      "Epoch 20/100\n",
      "700/700 [==============================] - 20s 29ms/step - loss: 0.1774 - accuracy: 0.9284 - val_loss: 0.2786 - val_accuracy: 0.8938\n",
      "Epoch 21/100\n",
      "700/700 [==============================] - 21s 30ms/step - loss: 0.1649 - accuracy: 0.9347 - val_loss: 0.2127 - val_accuracy: 0.9266\n",
      "Epoch 22/100\n",
      "700/700 [==============================] - 21s 30ms/step - loss: 0.2049 - accuracy: 0.9129 - val_loss: 0.3240 - val_accuracy: 0.8592\n",
      "Epoch 23/100\n",
      "700/700 [==============================] - 22s 31ms/step - loss: 0.1855 - accuracy: 0.9282 - val_loss: 0.2216 - val_accuracy: 0.9260\n",
      "Epoch 24/100\n",
      "700/700 [==============================] - 21s 29ms/step - loss: 0.1685 - accuracy: 0.9371 - val_loss: 0.2576 - val_accuracy: 0.9011\n",
      "Epoch 25/100\n",
      "700/700 [==============================] - 21s 29ms/step - loss: 0.1496 - accuracy: 0.9382 - val_loss: 0.2342 - val_accuracy: 0.9168\n",
      "Epoch 26/100\n",
      "700/700 [==============================] - 20s 29ms/step - loss: 0.1460 - accuracy: 0.9426 - val_loss: 0.1932 - val_accuracy: 0.9326\n",
      "Epoch 27/100\n",
      "700/700 [==============================] - 22s 31ms/step - loss: 0.1228 - accuracy: 0.9519 - val_loss: 0.2135 - val_accuracy: 0.9212\n",
      "Epoch 28/100\n",
      "700/700 [==============================] - 20s 29ms/step - loss: 0.1301 - accuracy: 0.9480 - val_loss: 0.2560 - val_accuracy: 0.9120\n",
      "Epoch 29/100\n",
      "700/700 [==============================] - 20s 28ms/step - loss: 0.1156 - accuracy: 0.9546 - val_loss: 0.1978 - val_accuracy: 0.9331\n",
      "Epoch 30/100\n",
      "700/700 [==============================] - 20s 29ms/step - loss: 0.0898 - accuracy: 0.9649 - val_loss: 0.2045 - val_accuracy: 0.9364\n",
      "Epoch 31/100\n",
      "700/700 [==============================] - 22s 31ms/step - loss: 0.0975 - accuracy: 0.9638 - val_loss: 0.2032 - val_accuracy: 0.9366\n",
      "Epoch 32/100\n",
      "700/700 [==============================] - 22s 31ms/step - loss: 0.0896 - accuracy: 0.9659 - val_loss: 0.2355 - val_accuracy: 0.9291\n",
      "Epoch 33/100\n",
      "700/700 [==============================] - 21s 30ms/step - loss: 0.0701 - accuracy: 0.9763 - val_loss: 0.2147 - val_accuracy: 0.9364\n",
      "Epoch 34/100\n",
      "700/700 [==============================] - 22s 32ms/step - loss: 0.0687 - accuracy: 0.9743 - val_loss: 0.2404 - val_accuracy: 0.9255\n",
      "Epoch 35/100\n",
      "700/700 [==============================] - 22s 32ms/step - loss: 0.0985 - accuracy: 0.9650 - val_loss: 0.2157 - val_accuracy: 0.9364\n",
      "Epoch 36/100\n",
      "700/700 [==============================] - 20s 29ms/step - loss: 0.0805 - accuracy: 0.9718 - val_loss: 0.2169 - val_accuracy: 0.9412\n",
      "Epoch 37/100\n",
      "700/700 [==============================] - 22s 31ms/step - loss: 0.0593 - accuracy: 0.9785 - val_loss: 0.2354 - val_accuracy: 0.9397\n",
      "Epoch 38/100\n",
      "700/700 [==============================] - 22s 32ms/step - loss: 0.0826 - accuracy: 0.9668 - val_loss: 0.2752 - val_accuracy: 0.8832\n",
      "Epoch 39/100\n",
      "700/700 [==============================] - 22s 32ms/step - loss: 0.0791 - accuracy: 0.9698 - val_loss: 0.2863 - val_accuracy: 0.9178\n",
      "Epoch 40/100\n",
      "700/700 [==============================] - 21s 31ms/step - loss: 0.0670 - accuracy: 0.9795 - val_loss: 0.1998 - val_accuracy: 0.9474\n",
      "Epoch 41/100\n",
      "700/700 [==============================] - 22s 31ms/step - loss: 0.0638 - accuracy: 0.9832 - val_loss: 0.2419 - val_accuracy: 0.9303\n",
      "Epoch 42/100\n",
      "700/700 [==============================] - 22s 31ms/step - loss: 0.0471 - accuracy: 0.9844 - val_loss: 0.2467 - val_accuracy: 0.9347\n",
      "Epoch 43/100\n",
      "700/700 [==============================] - 23s 32ms/step - loss: 0.0472 - accuracy: 0.9843 - val_loss: 0.2377 - val_accuracy: 0.9414\n",
      "Epoch 44/100\n",
      "700/700 [==============================] - 22s 32ms/step - loss: 0.0593 - accuracy: 0.9789 - val_loss: 0.2295 - val_accuracy: 0.9466\n",
      "Epoch 45/100\n",
      "700/700 [==============================] - 22s 31ms/step - loss: 0.0569 - accuracy: 0.9782 - val_loss: 0.2733 - val_accuracy: 0.9274\n",
      "Epoch 46/100\n",
      "700/700 [==============================] - 22s 31ms/step - loss: 0.0457 - accuracy: 0.9842 - val_loss: 0.2532 - val_accuracy: 0.9435\n",
      "Epoch 47/100\n",
      "700/700 [==============================] - 21s 29ms/step - loss: 0.0394 - accuracy: 0.9863 - val_loss: 0.2931 - val_accuracy: 0.9235\n",
      "Epoch 48/100\n",
      "700/700 [==============================] - 21s 30ms/step - loss: 0.0375 - accuracy: 0.9868 - val_loss: 0.3175 - val_accuracy: 0.9260\n",
      "Epoch 49/100\n",
      "700/700 [==============================] - 20s 29ms/step - loss: 0.0301 - accuracy: 0.9913 - val_loss: 0.2580 - val_accuracy: 0.9508\n",
      "Epoch 50/100\n",
      "700/700 [==============================] - 22s 31ms/step - loss: 0.0370 - accuracy: 0.9883 - val_loss: 0.2495 - val_accuracy: 0.9278\n",
      "Epoch 51/100\n",
      "700/700 [==============================] - 21s 30ms/step - loss: 0.0366 - accuracy: 0.9882 - val_loss: 0.2199 - val_accuracy: 0.9477\n",
      "Epoch 52/100\n",
      "700/700 [==============================] - 22s 31ms/step - loss: 0.0522 - accuracy: 0.9799 - val_loss: 0.3119 - val_accuracy: 0.9180\n",
      "Epoch 53/100\n",
      "700/700 [==============================] - 21s 29ms/step - loss: 0.0481 - accuracy: 0.9878 - val_loss: 0.2316 - val_accuracy: 0.9406\n",
      "Epoch 54/100\n",
      "700/700 [==============================] - 22s 32ms/step - loss: 0.0349 - accuracy: 0.9904 - val_loss: 0.2255 - val_accuracy: 0.9504\n",
      "Epoch 55/100\n",
      "700/700 [==============================] - 21s 30ms/step - loss: 0.0349 - accuracy: 0.9913 - val_loss: 0.2390 - val_accuracy: 0.9460\n",
      "Epoch 56/100\n",
      "700/700 [==============================] - 21s 30ms/step - loss: 0.0509 - accuracy: 0.9853 - val_loss: 0.2747 - val_accuracy: 0.9410\n",
      "Epoch 57/100\n",
      "700/700 [==============================] - 21s 30ms/step - loss: 0.0381 - accuracy: 0.9898 - val_loss: 0.2681 - val_accuracy: 0.9447\n",
      "Epoch 58/100\n",
      "700/700 [==============================] - 21s 30ms/step - loss: 0.0290 - accuracy: 0.9920 - val_loss: 0.2455 - val_accuracy: 0.9416\n",
      "Epoch 59/100\n",
      "700/700 [==============================] - 22s 31ms/step - loss: 0.0231 - accuracy: 0.9937 - val_loss: 0.2626 - val_accuracy: 0.9447\n",
      "Epoch 60/100\n",
      "700/700 [==============================] - 20s 29ms/step - loss: 0.0334 - accuracy: 0.9901 - val_loss: 0.3468 - val_accuracy: 0.9258\n",
      "Epoch 61/100\n",
      "700/700 [==============================] - 24s 34ms/step - loss: 0.0299 - accuracy: 0.9928 - val_loss: 0.2926 - val_accuracy: 0.9306\n",
      "Epoch 62/100\n",
      "700/700 [==============================] - 22s 31ms/step - loss: 0.0294 - accuracy: 0.9901 - val_loss: 0.3129 - val_accuracy: 0.9379\n",
      "Epoch 63/100\n",
      "700/700 [==============================] - 21s 31ms/step - loss: 0.0594 - accuracy: 0.9785 - val_loss: 0.2722 - val_accuracy: 0.9395\n",
      "Epoch 64/100\n",
      "700/700 [==============================] - 21s 30ms/step - loss: 0.0333 - accuracy: 0.9888 - val_loss: 0.4121 - val_accuracy: 0.8930\n",
      "Epoch 65/100\n",
      "700/700 [==============================] - 22s 31ms/step - loss: 0.0305 - accuracy: 0.9904 - val_loss: 0.2863 - val_accuracy: 0.9364\n",
      "Epoch 66/100\n",
      "700/700 [==============================] - 22s 32ms/step - loss: 0.0284 - accuracy: 0.9925 - val_loss: 0.3160 - val_accuracy: 0.9318\n",
      "Epoch 67/100\n",
      "700/700 [==============================] - 22s 32ms/step - loss: 0.0330 - accuracy: 0.9910 - val_loss: 0.2530 - val_accuracy: 0.9491\n",
      "Epoch 68/100\n",
      "700/700 [==============================] - 22s 32ms/step - loss: 0.0522 - accuracy: 0.9816 - val_loss: 0.2718 - val_accuracy: 0.9251\n",
      "Epoch 69/100\n",
      "700/700 [==============================] - 22s 31ms/step - loss: 0.0599 - accuracy: 0.9815 - val_loss: 0.2055 - val_accuracy: 0.9502\n",
      "Epoch 70/100\n",
      "700/700 [==============================] - 23s 32ms/step - loss: 0.0458 - accuracy: 0.9886 - val_loss: 0.2357 - val_accuracy: 0.9441\n",
      "Epoch 71/100\n",
      "700/700 [==============================] - 21s 30ms/step - loss: 0.0728 - accuracy: 0.9769 - val_loss: 0.2464 - val_accuracy: 0.9272\n",
      "Epoch 72/100\n",
      "700/700 [==============================] - 23s 33ms/step - loss: 0.0680 - accuracy: 0.9804 - val_loss: 0.2047 - val_accuracy: 0.9433\n",
      "Epoch 73/100\n",
      "700/700 [==============================] - 22s 31ms/step - loss: 0.0434 - accuracy: 0.9884 - val_loss: 0.2306 - val_accuracy: 0.9406\n",
      "Epoch 74/100\n",
      "700/700 [==============================] - 22s 32ms/step - loss: 0.0486 - accuracy: 0.9889 - val_loss: 0.2125 - val_accuracy: 0.9418\n",
      "Epoch 75/100\n",
      "700/700 [==============================] - 21s 30ms/step - loss: 0.0599 - accuracy: 0.9831 - val_loss: 0.2313 - val_accuracy: 0.9391\n",
      "Epoch 76/100\n",
      "700/700 [==============================] - 21s 30ms/step - loss: 0.0634 - accuracy: 0.9824 - val_loss: 0.2384 - val_accuracy: 0.9441\n",
      "Epoch 77/100\n",
      "700/700 [==============================] - 20s 28ms/step - loss: 0.0548 - accuracy: 0.9868 - val_loss: 0.2567 - val_accuracy: 0.9337\n",
      "Epoch 78/100\n",
      "700/700 [==============================] - 21s 31ms/step - loss: 0.0534 - accuracy: 0.9873 - val_loss: 0.2519 - val_accuracy: 0.9381\n",
      "Epoch 79/100\n",
      "700/700 [==============================] - 21s 30ms/step - loss: 0.0416 - accuracy: 0.9885 - val_loss: 0.2247 - val_accuracy: 0.9495\n",
      "Epoch 80/100\n",
      "700/700 [==============================] - 21s 30ms/step - loss: 0.0327 - accuracy: 0.9928 - val_loss: 0.2202 - val_accuracy: 0.9493\n",
      "Epoch 81/100\n",
      "700/700 [==============================] - 21s 30ms/step - loss: 0.0401 - accuracy: 0.9907 - val_loss: 0.2450 - val_accuracy: 0.9445\n",
      "Epoch 82/100\n",
      "700/700 [==============================] - 21s 30ms/step - loss: 0.0355 - accuracy: 0.9924 - val_loss: 0.2373 - val_accuracy: 0.9510\n",
      "Epoch 83/100\n",
      "700/700 [==============================] - 22s 32ms/step - loss: 0.0278 - accuracy: 0.9908 - val_loss: 0.2457 - val_accuracy: 0.9426\n",
      "Epoch 84/100\n",
      "700/700 [==============================] - 22s 31ms/step - loss: 0.0272 - accuracy: 0.9928 - val_loss: 0.2367 - val_accuracy: 0.9447\n",
      "Epoch 85/100\n",
      "700/700 [==============================] - 22s 31ms/step - loss: 0.0353 - accuracy: 0.9922 - val_loss: 0.2436 - val_accuracy: 0.9456\n",
      "Epoch 86/100\n",
      "700/700 [==============================] - 21s 30ms/step - loss: 0.0245 - accuracy: 0.9937 - val_loss: 0.2871 - val_accuracy: 0.9468\n",
      "Epoch 87/100\n",
      "700/700 [==============================] - 20s 29ms/step - loss: 0.0199 - accuracy: 0.9955 - val_loss: 0.2345 - val_accuracy: 0.9518\n",
      "Epoch 88/100\n",
      "700/700 [==============================] - 20s 28ms/step - loss: 0.0279 - accuracy: 0.9943 - val_loss: 0.2792 - val_accuracy: 0.9393\n",
      "Epoch 89/100\n",
      "700/700 [==============================] - 21s 29ms/step - loss: 0.0509 - accuracy: 0.9860 - val_loss: 0.2214 - val_accuracy: 0.9424\n",
      "Epoch 90/100\n",
      "700/700 [==============================] - 21s 30ms/step - loss: 0.0339 - accuracy: 0.9918 - val_loss: 0.2195 - val_accuracy: 0.9481\n",
      "Epoch 91/100\n",
      "700/700 [==============================] - 20s 29ms/step - loss: 0.0232 - accuracy: 0.9950 - val_loss: 0.2725 - val_accuracy: 0.9412\n",
      "Epoch 92/100\n",
      "700/700 [==============================] - 22s 32ms/step - loss: 0.0174 - accuracy: 0.9966 - val_loss: 0.2758 - val_accuracy: 0.9447\n",
      "Epoch 93/100\n",
      "700/700 [==============================] - 21s 31ms/step - loss: 0.0225 - accuracy: 0.9944 - val_loss: 0.2425 - val_accuracy: 0.9529\n",
      "Epoch 94/100\n",
      "700/700 [==============================] - 21s 30ms/step - loss: 0.0200 - accuracy: 0.9940 - val_loss: 0.2314 - val_accuracy: 0.9449\n",
      "Epoch 95/100\n",
      "700/700 [==============================] - 23s 32ms/step - loss: 0.0224 - accuracy: 0.9934 - val_loss: 0.2516 - val_accuracy: 0.9504\n",
      "Epoch 96/100\n",
      "700/700 [==============================] - 21s 31ms/step - loss: 0.0167 - accuracy: 0.9949 - val_loss: 0.2888 - val_accuracy: 0.9527\n",
      "Epoch 97/100\n",
      "700/700 [==============================] - 22s 31ms/step - loss: 0.0194 - accuracy: 0.9971 - val_loss: 0.2230 - val_accuracy: 0.9554\n",
      "Epoch 98/100\n",
      "700/700 [==============================] - 21s 31ms/step - loss: 0.0301 - accuracy: 0.9962 - val_loss: 0.2337 - val_accuracy: 0.9462\n",
      "Epoch 99/100\n",
      "700/700 [==============================] - 21s 29ms/step - loss: 0.0217 - accuracy: 0.9962 - val_loss: 0.2882 - val_accuracy: 0.9412\n",
      "Epoch 100/100\n",
      "700/700 [==============================] - 21s 30ms/step - loss: 0.0254 - accuracy: 0.9916 - val_loss: 0.2567 - val_accuracy: 0.9426\n"
     ]
    }
   ],
   "source": [
    "history = model.fit(xtrain_pad, ytrain, validation_data=(xtest_pad, ytest), epochs=100, class_weight=weights)"
   ]
  },
  {
   "cell_type": "markdown",
   "metadata": {
    "id": "04Nh1PqQWdYe"
   },
   "source": [
    "# **Evaluation**"
   ]
  },
  {
   "cell_type": "code",
   "execution_count": 37,
   "metadata": {
    "colab": {
     "base_uri": "https://localhost:8080/",
     "height": 430
    },
    "id": "eD5qUCDRhvmD",
    "outputId": "d7ed040c-1b9a-4753-ca6e-abacf524d97f"
   },
   "outputs": [
    {
     "data": {
      "image/png": "[encoded data removed]",
      "text/plain": [
       "<Figure size 640x480 with 1 Axes>"
      ]
     },
     "metadata": {},
     "output_type": "display_data"
    }
   ],
   "source": [
    "plt.plot(history.history[\"accuracy\"], label=\"training accuracy\", color = 'black')\n",
    "plt.plot(history.history[\"val_accuracy\"], label=\"validation accuracy\", color = 'red')\n",
    "plt.legend()\n",
    "plt.show()"
   ]
  },
  {
   "cell_type": "code",
   "execution_count": 34,
   "metadata": {
    "colab": {
     "base_uri": "https://localhost:8080/"
    },
    "id": "uK2sPRgFyJJh",
    "outputId": "0d4cf9e1-07a0-4911-ef52-e36feb0b6973"
   },
   "outputs": [
    {
     "name": "stdout",
     "output_type": "stream",
     "text": [
      "150/150 [==============================] - 4s 10ms/step\n"
     ]
    },
    {
     "data": {
      "text/plain": [
       "array([[0],\n",
       "       [0],\n",
       "       [0],\n",
       "       ...,\n",
       "       [0],\n",
       "       [0],\n",
       "       [0]])"
      ]
     },
     "execution_count": 34,
     "metadata": {},
     "output_type": "execute_result"
    }
   ],
   "source": [
    "ypred = (model.predict(xval_pad) > 0.5).astype(int)\n",
    "ypred"
   ]
  },
  {
   "cell_type": "code",
   "execution_count": 35,
   "metadata": {
    "colab": {
     "base_uri": "https://localhost:8080/"
    },
    "id": "eaCOsIJVWLG9",
    "outputId": "3a738dbd-b5c4-40dd-eab7-527128464ab5"
   },
   "outputs": [
    {
     "name": "stdout",
     "output_type": "stream",
     "text": [
      "              precision    recall  f1-score   support\n",
      "\n",
      "           0       0.97      0.96      0.97      4438\n",
      "           1       0.57      0.68      0.62       356\n",
      "\n",
      "    accuracy                           0.94      4794\n",
      "   macro avg       0.77      0.82      0.79      4794\n",
      "weighted avg       0.94      0.94      0.94      4794\n",
      "\n"
     ]
    }
   ],
   "source": [
    "from sklearn.metrics import classification_report\n",
    "\n",
    "print(classification_report(y_val, ypred))"
   ]
  },
  {
   "cell_type": "code",
   "execution_count": 38,
   "metadata": {
    "colab": {
     "base_uri": "https://localhost:8080/"
    },
    "id": "2kG0El2iwCAV",
    "outputId": "b3776dc6-dedb-4640-a049-4ec872324a95"
   },
   "outputs": [
    {
     "name": "stdout",
     "output_type": "stream",
     "text": [
      "150/150 [==============================] - 2s 12ms/step - loss: 0.2902 - accuracy: 0.9387\n"
     ]
    },
    {
     "data": {
      "text/plain": [
       "[0.29021236300468445, 0.9386733174324036]"
      ]
     },
     "execution_count": 38,
     "metadata": {},
     "output_type": "execute_result"
    }
   ],
   "source": [
    "model.evaluate(xval_pad, y_val)"
   ]
  }
 ],
 "metadata": {
  "accelerator": "GPU",
  "colab": {
   "provenance": []
  },
  "kernelspec": {
   "display_name": "Python 3 (ipykernel)",
   "language": "python",
   "name": "python3"
  },
  "language_info": {
   "codemirror_mode": {
    "name": "ipython",
    "version": 3
   },
   "file_extension": ".py",
   "mimetype": "text/x-python",
   "name": "python",
   "nbconvert_exporter": "python",
   "pygments_lexer": "ipython3",
   "version": "3.10.9"
  }
 },
 "nbformat": 4,
 "nbformat_minor": 1
}
