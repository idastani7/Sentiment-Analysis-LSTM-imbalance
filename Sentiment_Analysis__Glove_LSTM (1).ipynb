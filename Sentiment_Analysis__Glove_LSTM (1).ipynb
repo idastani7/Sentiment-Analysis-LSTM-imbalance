{
 "cells": [
  {
   "cell_type": "code",
   "execution_count": 54,
   "metadata": {
    "colab": {
     "base_uri": "https://localhost:8080/"
    },
    "id": "XhtIySLUc251",
    "outputId": "5f78ea6d-0a91-45ae-dc05-2be1a2b8cbd0"
   },
   "outputs": [
    {
     "name": "stderr",
     "output_type": "stream",
     "text": [
      "[nltk_data] Downloading package stopwords to\n",
      "[nltk_data]     C:\\Users\\Iman\\AppData\\Roaming\\nltk_data...\n",
      "[nltk_data]   Package stopwords is already up-to-date!\n"
     ]
    },
    {
     "data": {
      "text/plain": [
       "True"
      ]
     },
     "execution_count": 54,
     "metadata": {},
     "output_type": "execute_result"
    }
   ],
   "source": [
    "import pandas as pd\n",
    "import numpy as np\n",
    "import nltk\n",
    "import re\n",
    "from nltk.stem import WordNetLemmatizer\n",
    "from copy import deepcopy\n",
    "from tqdm import tqdm\n",
    "import matplotlib.pyplot as plt\n",
    "from tensorflow.keras import layers\n",
    "from tensorflow.keras.models import Sequential\n",
    "from tensorflow.keras.losses import BinaryCrossentropy\n",
    "from tensorflow.keras.losses import MeanSquaredError\n",
    "from tensorflow.keras.optimizers import Adam\n",
    "from tensorflow.keras.optimizers import SGD\n",
    "from tensorflow.keras.metrics import AUC\n",
    "from tensorflow.keras.models import load_model\n",
    "from tensorflow.keras import regularizers\n",
    "from sklearn.metrics import classification_report\n",
    "from sklearn.utils import class_weight\n",
    "import nltk\n",
    "from nltk.corpus import stopwords\n",
    "nltk.download('stopwords')"
   ]
  },
  {
   "cell_type": "code",
   "execution_count": 55,
   "metadata": {
    "colab": {
     "base_uri": "https://localhost:8080/",
     "height": 423
    },
    "id": "1YWowBNxddWI",
    "outputId": "b30d127b-b0ef-4c00-949d-3a460fb83573"
   },
   "outputs": [
    {
     "data": {
      "text/html": [
       "<div>\n",
       "<style scoped>\n",
       "    .dataframe tbody tr th:only-of-type {\n",
       "        vertical-align: middle;\n",
       "    }\n",
       "\n",
       "    .dataframe tbody tr th {\n",
       "        vertical-align: top;\n",
       "    }\n",
       "\n",
       "    .dataframe thead th {\n",
       "        text-align: right;\n",
       "    }\n",
       "</style>\n",
       "<table border=\"1\" class=\"dataframe\">\n",
       "  <thead>\n",
       "    <tr style=\"text-align: right;\">\n",
       "      <th></th>\n",
       "      <th>id</th>\n",
       "      <th>label</th>\n",
       "      <th>tweet</th>\n",
       "    </tr>\n",
       "  </thead>\n",
       "  <tbody>\n",
       "    <tr>\n",
       "      <th>0</th>\n",
       "      <td>1</td>\n",
       "      <td>0</td>\n",
       "      <td>@user when a father is dysfunctional and is s...</td>\n",
       "    </tr>\n",
       "    <tr>\n",
       "      <th>1</th>\n",
       "      <td>2</td>\n",
       "      <td>0</td>\n",
       "      <td>@user @user thanks for #lyft credit i can't us...</td>\n",
       "    </tr>\n",
       "    <tr>\n",
       "      <th>2</th>\n",
       "      <td>3</td>\n",
       "      <td>0</td>\n",
       "      <td>bihday your majesty</td>\n",
       "    </tr>\n",
       "    <tr>\n",
       "      <th>3</th>\n",
       "      <td>4</td>\n",
       "      <td>0</td>\n",
       "      <td>#model   i love u take with u all the time in ...</td>\n",
       "    </tr>\n",
       "    <tr>\n",
       "      <th>4</th>\n",
       "      <td>5</td>\n",
       "      <td>0</td>\n",
       "      <td>factsguide: society now    #motivation</td>\n",
       "    </tr>\n",
       "    <tr>\n",
       "      <th>...</th>\n",
       "      <td>...</td>\n",
       "      <td>...</td>\n",
       "      <td>...</td>\n",
       "    </tr>\n",
       "    <tr>\n",
       "      <th>31957</th>\n",
       "      <td>31958</td>\n",
       "      <td>0</td>\n",
       "      <td>ate @user isz that youuu?ðððððð...</td>\n",
       "    </tr>\n",
       "    <tr>\n",
       "      <th>31958</th>\n",
       "      <td>31959</td>\n",
       "      <td>0</td>\n",
       "      <td>to see nina turner on the airwaves trying to...</td>\n",
       "    </tr>\n",
       "    <tr>\n",
       "      <th>31959</th>\n",
       "      <td>31960</td>\n",
       "      <td>0</td>\n",
       "      <td>listening to sad songs on a monday morning otw...</td>\n",
       "    </tr>\n",
       "    <tr>\n",
       "      <th>31960</th>\n",
       "      <td>31961</td>\n",
       "      <td>1</td>\n",
       "      <td>@user #sikh #temple vandalised in in #calgary,...</td>\n",
       "    </tr>\n",
       "    <tr>\n",
       "      <th>31961</th>\n",
       "      <td>31962</td>\n",
       "      <td>0</td>\n",
       "      <td>thank you @user for you follow</td>\n",
       "    </tr>\n",
       "  </tbody>\n",
       "</table>\n",
       "<p>31962 rows × 3 columns</p>\n",
       "</div>"
      ],
      "text/plain": [
       "          id  label                                              tweet\n",
       "0          1      0   @user when a father is dysfunctional and is s...\n",
       "1          2      0  @user @user thanks for #lyft credit i can't us...\n",
       "2          3      0                                bihday your majesty\n",
       "3          4      0  #model   i love u take with u all the time in ...\n",
       "4          5      0             factsguide: society now    #motivation\n",
       "...      ...    ...                                                ...\n",
       "31957  31958      0  ate @user isz that youuu?ðððððð...\n",
       "31958  31959      0    to see nina turner on the airwaves trying to...\n",
       "31959  31960      0  listening to sad songs on a monday morning otw...\n",
       "31960  31961      1  @user #sikh #temple vandalised in in #calgary,...\n",
       "31961  31962      0                   thank you @user for you follow  \n",
       "\n",
       "[31962 rows x 3 columns]"
      ]
     },
     "execution_count": 55,
     "metadata": {},
     "output_type": "execute_result"
    }
   ],
   "source": [
    "df_train = pd.read_csv('train.csv')\n",
    "df_train"
   ]
  },
  {
   "cell_type": "code",
   "execution_count": 56,
   "metadata": {
    "colab": {
     "base_uri": "https://localhost:8080/"
    },
    "id": "tFTNq0TGdrCm",
    "outputId": "823c61cb-ec19-4d0a-e833-5137700b8fcc"
   },
   "outputs": [
    {
     "data": {
      "text/plain": [
       "0    29720\n",
       "1     2242\n",
       "Name: label, dtype: int64"
      ]
     },
     "execution_count": 56,
     "metadata": {},
     "output_type": "execute_result"
    }
   ],
   "source": [
    "df_train['label'].value_counts()"
   ]
  },
  {
   "cell_type": "code",
   "execution_count": 57,
   "metadata": {
    "id": "ScY09-sGd86o"
   },
   "outputs": [],
   "source": [
    "#!wget http://downloads.cs.stanford.edu/nlp/data/glove.6B.zip"
   ]
  },
  {
   "cell_type": "code",
   "execution_count": 58,
   "metadata": {
    "id": "i0Q1MFvreSyH"
   },
   "outputs": [],
   "source": [
    "#!unzip glove.6B.zip"
   ]
  },
  {
   "cell_type": "code",
   "execution_count": 59,
   "metadata": {
    "colab": {
     "base_uri": "https://localhost:8080/"
    },
    "id": "lCXt0U7a13xh",
    "outputId": "e9eddf4b-4809-46b2-df2b-96a430d0b8d7"
   },
   "outputs": [
    {
     "name": "stderr",
     "output_type": "stream",
     "text": [
      "400000it [00:03, 106296.94it/s]\n"
     ]
    }
   ],
   "source": [
    "embedding_index = {}\n",
    "f = open('./glove.6B/glove.6B.50d.txt', 'r', encoding ='utf-8')\n",
    "for line in tqdm(f):\n",
    "  values = line.split(' ')\n",
    "  word = values[0]\n",
    "  coesf = np.asarray([float(val) for val in values[1:]])\n",
    "  embedding_index[word] = coesf\n",
    "f.close()"
   ]
  },
  {
   "cell_type": "code",
   "execution_count": null,
   "metadata": {},
   "outputs": [],
   "source": [
    "embedding_index"
   ]
  },
  {
   "cell_type": "code",
   "execution_count": 61,
   "metadata": {
    "colab": {
     "base_uri": "https://localhost:8080/"
    },
    "id": "dgMgsPn0fvJG",
    "outputId": "95c65757-43c0-43a3-84ef-0e6d94d91ddd"
   },
   "outputs": [
    {
     "data": {
      "text/plain": [
       "400000"
      ]
     },
     "execution_count": 61,
     "metadata": {},
     "output_type": "execute_result"
    }
   ],
   "source": [
    "len(embedding_index)"
   ]
  },
  {
   "cell_type": "code",
   "execution_count": 62,
   "metadata": {
    "colab": {
     "base_uri": "https://localhost:8080/"
    },
    "id": "SnS3raK3ilhs",
    "outputId": "ede0a4d7-beb4-408e-98f1-0af5595217f4"
   },
   "outputs": [
    {
     "name": "stderr",
     "output_type": "stream",
     "text": [
      "[nltk_data] Downloading package wordnet to\n",
      "[nltk_data]     C:\\Users\\Iman\\AppData\\Roaming\\nltk_data...\n",
      "[nltk_data]   Package wordnet is already up-to-date!\n"
     ]
    },
    {
     "data": {
      "text/plain": [
       "True"
      ]
     },
     "execution_count": 62,
     "metadata": {},
     "output_type": "execute_result"
    }
   ],
   "source": [
    "nltk.download('wordnet')"
   ]
  },
  {
   "cell_type": "markdown",
   "metadata": {
    "id": "d5BUbQMxopkw"
   },
   "source": [
    "#**Preprocessing - Vectorization**"
   ]
  },
  {
   "cell_type": "code",
   "execution_count": 63,
   "metadata": {
    "colab": {
     "base_uri": "https://localhost:8080/"
    },
    "id": "2tTd2UxVi7W0",
    "outputId": "37f0fe34-fd55-4d59-d938-4e61b46907fc"
   },
   "outputs": [
    {
     "data": {
      "text/plain": [
       "['listening', 'to', 'sad', 'songs', 'on', 'a', 'monday', 'morning']"
      ]
     },
     "execution_count": 63,
     "metadata": {},
     "output_type": "execute_result"
    }
   ],
   "source": [
    "tokenizer = nltk.RegexpTokenizer(r'\\w+')\n",
    "tokenizer.tokenize('listening to sad songs on a monday morning')"
   ]
  },
  {
   "cell_type": "code",
   "execution_count": 64,
   "metadata": {
    "colab": {
     "base_uri": "https://localhost:8080/",
     "height": 36
    },
    "id": "JeNGCbbEjn8_",
    "outputId": "c9342251-c2e3-4ad4-d699-0c23186a98d8"
   },
   "outputs": [
    {
     "data": {
      "text/plain": [
       "'foot'"
      ]
     },
     "execution_count": 64,
     "metadata": {},
     "output_type": "execute_result"
    }
   ],
   "source": [
    "lemmatizer = WordNetLemmatizer()\n",
    "lemmatizer.lemmatize('feet')"
   ]
  },
  {
   "cell_type": "code",
   "execution_count": 65,
   "metadata": {
    "id": "-MrRbN32hX1P"
   },
   "outputs": [],
   "source": [
    "stops = set(stopwords.words('english'))"
   ]
  },
  {
   "cell_type": "code",
   "execution_count": 66,
   "metadata": {
    "colab": {
     "base_uri": "https://localhost:8080/",
     "height": 423
    },
    "id": "-B-a1PZlq5tL",
    "outputId": "dca13e95-68c6-46b3-930d-07402778deb6"
   },
   "outputs": [
    {
     "data": {
      "text/html": [
       "<div>\n",
       "<style scoped>\n",
       "    .dataframe tbody tr th:only-of-type {\n",
       "        vertical-align: middle;\n",
       "    }\n",
       "\n",
       "    .dataframe tbody tr th {\n",
       "        vertical-align: top;\n",
       "    }\n",
       "\n",
       "    .dataframe thead th {\n",
       "        text-align: right;\n",
       "    }\n",
       "</style>\n",
       "<table border=\"1\" class=\"dataframe\">\n",
       "  <thead>\n",
       "    <tr style=\"text-align: right;\">\n",
       "      <th></th>\n",
       "      <th>id</th>\n",
       "      <th>label</th>\n",
       "      <th>tweet</th>\n",
       "      <th>final_text</th>\n",
       "    </tr>\n",
       "  </thead>\n",
       "  <tbody>\n",
       "    <tr>\n",
       "      <th>0</th>\n",
       "      <td>1</td>\n",
       "      <td>0</td>\n",
       "      <td>@user when a father is dysfunctional and is s...</td>\n",
       "      <td>@user when a father is dysfunctional and is s...</td>\n",
       "    </tr>\n",
       "    <tr>\n",
       "      <th>1</th>\n",
       "      <td>2</td>\n",
       "      <td>0</td>\n",
       "      <td>@user @user thanks for #lyft credit i can't us...</td>\n",
       "      <td>@user @user thanks for #lyft credit i can't us...</td>\n",
       "    </tr>\n",
       "    <tr>\n",
       "      <th>2</th>\n",
       "      <td>3</td>\n",
       "      <td>0</td>\n",
       "      <td>bihday your majesty</td>\n",
       "      <td>bihday your majesty</td>\n",
       "    </tr>\n",
       "    <tr>\n",
       "      <th>3</th>\n",
       "      <td>4</td>\n",
       "      <td>0</td>\n",
       "      <td>#model   i love u take with u all the time in ...</td>\n",
       "      <td>#model   i love u take with u all the time in ...</td>\n",
       "    </tr>\n",
       "    <tr>\n",
       "      <th>4</th>\n",
       "      <td>5</td>\n",
       "      <td>0</td>\n",
       "      <td>factsguide: society now    #motivation</td>\n",
       "      <td>factsguide: society now    #motivation</td>\n",
       "    </tr>\n",
       "    <tr>\n",
       "      <th>...</th>\n",
       "      <td>...</td>\n",
       "      <td>...</td>\n",
       "      <td>...</td>\n",
       "      <td>...</td>\n",
       "    </tr>\n",
       "    <tr>\n",
       "      <th>31957</th>\n",
       "      <td>31958</td>\n",
       "      <td>0</td>\n",
       "      <td>ate @user isz that youuu?ðððððð...</td>\n",
       "      <td>ate @user isz that youuu?ðððððð...</td>\n",
       "    </tr>\n",
       "    <tr>\n",
       "      <th>31958</th>\n",
       "      <td>31959</td>\n",
       "      <td>0</td>\n",
       "      <td>to see nina turner on the airwaves trying to...</td>\n",
       "      <td>to see nina turner on the airwaves trying to...</td>\n",
       "    </tr>\n",
       "    <tr>\n",
       "      <th>31959</th>\n",
       "      <td>31960</td>\n",
       "      <td>0</td>\n",
       "      <td>listening to sad songs on a monday morning otw...</td>\n",
       "      <td>listening to sad songs on a monday morning otw...</td>\n",
       "    </tr>\n",
       "    <tr>\n",
       "      <th>31960</th>\n",
       "      <td>31961</td>\n",
       "      <td>1</td>\n",
       "      <td>@user #sikh #temple vandalised in in #calgary,...</td>\n",
       "      <td>@user #sikh #temple vandalised in in #calgary,...</td>\n",
       "    </tr>\n",
       "    <tr>\n",
       "      <th>31961</th>\n",
       "      <td>31962</td>\n",
       "      <td>0</td>\n",
       "      <td>thank you @user for you follow</td>\n",
       "      <td>thank you @user for you follow</td>\n",
       "    </tr>\n",
       "  </tbody>\n",
       "</table>\n",
       "<p>31962 rows × 4 columns</p>\n",
       "</div>"
      ],
      "text/plain": [
       "          id  label                                              tweet  \\\n",
       "0          1      0   @user when a father is dysfunctional and is s...   \n",
       "1          2      0  @user @user thanks for #lyft credit i can't us...   \n",
       "2          3      0                                bihday your majesty   \n",
       "3          4      0  #model   i love u take with u all the time in ...   \n",
       "4          5      0             factsguide: society now    #motivation   \n",
       "...      ...    ...                                                ...   \n",
       "31957  31958      0  ate @user isz that youuu?ðððððð...   \n",
       "31958  31959      0    to see nina turner on the airwaves trying to...   \n",
       "31959  31960      0  listening to sad songs on a monday morning otw...   \n",
       "31960  31961      1  @user #sikh #temple vandalised in in #calgary,...   \n",
       "31961  31962      0                   thank you @user for you follow     \n",
       "\n",
       "                                              final_text  \n",
       "0       @user when a father is dysfunctional and is s...  \n",
       "1      @user @user thanks for #lyft credit i can't us...  \n",
       "2                                    bihday your majesty  \n",
       "3      #model   i love u take with u all the time in ...  \n",
       "4                 factsguide: society now    #motivation  \n",
       "...                                                  ...  \n",
       "31957  ate @user isz that youuu?ðððððð...  \n",
       "31958    to see nina turner on the airwaves trying to...  \n",
       "31959  listening to sad songs on a monday morning otw...  \n",
       "31960  @user #sikh #temple vandalised in in #calgary,...  \n",
       "31961                   thank you @user for you follow    \n",
       "\n",
       "[31962 rows x 4 columns]"
      ]
     },
     "execution_count": 66,
     "metadata": {},
     "output_type": "execute_result"
    }
   ],
   "source": [
    "df_train['final_text']  = df_train['tweet']\n",
    "df_train"
   ]
  },
  {
   "cell_type": "code",
   "execution_count": 67,
   "metadata": {
    "id": "gk_L6sNLqbj7"
   },
   "outputs": [],
   "source": [
    "# Remove url\n",
    "def remove_url(text):\n",
    "    url = re.compile(r'https?://\\S+|www\\.\\S+')\n",
    "    return url.sub(r'',text)\n",
    "\n",
    "# Remove punct\n",
    "def remove_punct(text):\n",
    "    table = str.maketrans('', '', string.punctuation)\n",
    "    return text.translate(table)\n",
    "\n",
    "# Remove html\n",
    "def remove_html(text):\n",
    "    html=re.compile(r'<.*?>')\n",
    "    return html.sub(r'',text)\n",
    "\n",
    "# Remove @username\n",
    "def remove_username(text):\n",
    "    return re.sub('@[^\\s]+','',text)\n",
    "\n",
    "# Remove emojis\n",
    "def remove_emoji(text):\n",
    "    emoji_pattern = re.compile(\"[\"\n",
    "                           u\"\\U0001F600-\\U0001F64F\"  # emoticons\n",
    "                           u\"\\U0001F300-\\U0001F5FF\"  # symbols & pictographs\n",
    "                           u\"\\U0001F680-\\U0001F6FF\"  # transport & map symbols\n",
    "                           u\"\\U0001F1E0-\\U0001F1FF\"  # flags (iOS)\n",
    "                           u\"\\U00002702-\\U000027B0\"\n",
    "                           u\"\\U000024C2-\\U0001F251\"\n",
    "                           \"]+\", flags=re.UNICODE)\n",
    "    return emoji_pattern.sub(r'', text)\n",
    "\n",
    "\n",
    "# Seperate alphanumeric\n",
    "def seperate_alphanumeric(text):\n",
    "    words = text\n",
    "    words = re.findall(r\"[^\\W\\d_]+|\\d+\", words)\n",
    "    return \" \".join(words)\n",
    "\n",
    "def cont_rep_char(text):\n",
    "    tchr = text.group(0)\n",
    "\n",
    "    if len(tchr) > 1:\n",
    "        return tchr[0:2]\n",
    "\n",
    "def unique_char(rep, text):\n",
    "    substitute = re.sub(r'(\\w)\\1+', rep, text)\n",
    "    return substitute\n",
    "\n",
    "def char(text):\n",
    "    substitute = re.sub(r'[^a-zA-Z]',' ',text)\n",
    "    return substitute\n",
    "\n"
   ]
  },
  {
   "cell_type": "code",
   "execution_count": 68,
   "metadata": {
    "id": "4ddcjZLjrVUL"
   },
   "outputs": [],
   "source": [
    "# Apply functions on tweets\n",
    "df_train['final_text'] = df_train['final_text'].apply(lambda x : remove_username(x))\n",
    "df_train['final_text'] = df_train['final_text'].apply(lambda x : remove_url(x))\n",
    "df_train['final_text'] = df_train['final_text'].apply(lambda x : remove_emoji(x))\n",
    "df_train['final_text'] = df_train['final_text'].apply(lambda x : seperate_alphanumeric(x))\n",
    "df_train['final_text'] = df_train['final_text'].apply(lambda x : unique_char(cont_rep_char,x))\n",
    "df_train['final_text'] = df_train['final_text'].apply(lambda x : char(x))\n",
    "\n"
   ]
  },
  {
   "cell_type": "code",
   "execution_count": 69,
   "metadata": {
    "colab": {
     "base_uri": "https://localhost:8080/"
    },
    "id": "DdzGLUxsr_nv",
    "outputId": "9a5ba2a1-b5e0-4aa2-a9c3-74d2c7f9c900"
   },
   "outputs": [
    {
     "data": {
      "text/plain": [
       "0        when a father is dysfunctional and is so selfi...\n",
       "1        thanks for lyft credit i can t use cause they ...\n",
       "2                                      bihday your majesty\n",
       "3        model i love u take with u all the time in ur ...\n",
       "4                        factsguide society now motivation\n",
       "                               ...                        \n",
       "31957              ate isz that youu                      \n",
       "31958    to see nina turner on the airwaves trying to w...\n",
       "31959    listening to sad songs on a monday morning otw...\n",
       "31960    sikh temple vandalised in in calgary wso conde...\n",
       "31961                             thank you for you follow\n",
       "Name: final_text, Length: 31962, dtype: object"
      ]
     },
     "execution_count": 69,
     "metadata": {},
     "output_type": "execute_result"
    }
   ],
   "source": [
    "df_train['final_text']"
   ]
  },
  {
   "cell_type": "code",
   "execution_count": 70,
   "metadata": {
    "id": "Md7uHmYbkMsY"
   },
   "outputs": [],
   "source": [
    "def Preprocessing_one(s):\n",
    "  tokens = tokenizer.tokenize(s)\n",
    "  tokens_lower = [x.lower() for x in tokens ]\n",
    "  tokens_lower_stop = [x for x in tokens_lower if not x in stops]\n",
    "  tokens_lemmatized = [lemmatizer.lemmatize(x) for x in tokens_lower_stop]\n",
    "  useful_tokens = [x for x in tokens_lemmatized if x in embedding_index]\n",
    "  return useful_tokens"
   ]
  },
  {
   "cell_type": "code",
   "execution_count": 71,
   "metadata": {
    "id": "MbcVq_Kx70d6"
   },
   "outputs": [],
   "source": [
    "def combine_vectorization(text, glove = embedding_index):\n",
    "  text_preprocessed = Preprocessing_one(text)\n",
    "  vectors = []\n",
    "\n",
    "  for token in text_preprocessed:\n",
    "    if token not in glove:\n",
    "      continue\n",
    "    token_vec = glove[token]\n",
    "    vectors.append(token_vec)\n",
    "\n",
    "  return np.array(vectors, dtype='float')"
   ]
  },
  {
   "cell_type": "code",
   "execution_count": 72,
   "metadata": {
    "colab": {
     "base_uri": "https://localhost:8080/"
    },
    "id": "mXUlcOVXooik",
    "outputId": "39374677-9c28-441c-8671-f3ae9c213e2c"
   },
   "outputs": [
    {
     "name": "stdout",
     "output_type": "stream",
     "text": [
      "(5, 50)\n"
     ]
    }
   ],
   "source": [
    "\n",
    "print(combine_vectorization('listening to sad songs on a Mondaysss Morning').shape)"
   ]
  },
  {
   "cell_type": "markdown",
   "metadata": {
    "id": "-mYwXGaP-nR8"
   },
   "source": [
    "# **Spliting Data**"
   ]
  },
  {
   "cell_type": "code",
   "execution_count": 73,
   "metadata": {
    "colab": {
     "base_uri": "https://localhost:8080/"
    },
    "id": "c4nbczUvpFxI",
    "outputId": "91c711c0-321f-4198-c944-3855f9a9d7a6"
   },
   "outputs": [
    {
     "data": {
      "text/plain": [
       "(31322, 320, 320)"
      ]
     },
     "execution_count": 73,
     "metadata": {},
     "output_type": "execute_result"
    }
   ],
   "source": [
    "df_train = df_train.sample(frac=1, random_state=1231)\n",
    "df_train.reset_index(drop=True, inplace=True)\n",
    "\n",
    "split_index_1 = int(len(df_train) * 0.98)\n",
    "split_index_2 = int(len(df_train) * 0.99)\n",
    "\n",
    "train_df, val_df, test_df = df_train[:split_index_1], df_train[split_index_1:split_index_2], df_train[split_index_2:]\n",
    "\n",
    "len(train_df), len(val_df), len(test_df)"
   ]
  },
  {
   "cell_type": "markdown",
   "metadata": {
    "id": "QMQb-P7lmVv4"
   },
   "source": [
    "# **Preparing data and Pad Sequence**"
   ]
  },
  {
   "cell_type": "code",
   "execution_count": 74,
   "metadata": {
    "id": "aUKnrUGY_uQ8"
   },
   "outputs": [],
   "source": [
    "def prepare_x_y(data):\n",
    "\n",
    "  y = data['label'].to_numpy().astype(int)\n",
    "\n",
    "  all_vec_seq = []\n",
    "\n",
    "  for text in data['final_text']:\n",
    "    text_as_vector_seq = combine_vectorization(text)\n",
    "\n",
    "    if text_as_vector_seq.shape[0] == 0:\n",
    "      text_as_vector_seq = np.zeros(shape= (1, 50))\n",
    "\n",
    "    all_vec_seq.append(text_as_vector_seq)\n",
    "\n",
    "  return all_vec_seq, y"
   ]
  },
  {
   "cell_type": "code",
   "execution_count": 75,
   "metadata": {
    "colab": {
     "base_uri": "https://localhost:8080/"
    },
    "id": "SUN0sliZsra5",
    "outputId": "4028dfae-970a-4b35-da44-23771ef075d9"
   },
   "outputs": [
    {
     "name": "stdout",
     "output_type": "stream",
     "text": [
      "31322\n"
     ]
    }
   ],
   "source": [
    "xtrain, ytrain = prepare_x_y(train_df)\n",
    "print(len(xtrain))"
   ]
  },
  {
   "cell_type": "code",
   "execution_count": 76,
   "metadata": {
    "colab": {
     "base_uri": "https://localhost:8080/"
    },
    "id": "NY1v9sc-Crog",
    "outputId": "f755e208-86b7-4135-d2ac-3f732c6da515"
   },
   "outputs": [
    {
     "name": "stdout",
     "output_type": "stream",
     "text": [
      "320\n"
     ]
    }
   ],
   "source": [
    "xtest, ytest = prepare_x_y(test_df)\n",
    "print(len(xtest))"
   ]
  },
  {
   "cell_type": "code",
   "execution_count": 77,
   "metadata": {
    "colab": {
     "base_uri": "https://localhost:8080/"
    },
    "id": "uaLZ4N45CxxR",
    "outputId": "c6d82d1c-66f0-4b7a-97dd-a74f910dcd53"
   },
   "outputs": [
    {
     "name": "stdout",
     "output_type": "stream",
     "text": [
      "320\n"
     ]
    }
   ],
   "source": [
    "X_val, y_val = prepare_x_y(val_df)\n",
    "print(len(X_val))"
   ]
  },
  {
   "cell_type": "code",
   "execution_count": 78,
   "metadata": {
    "id": "BIqk3aJpIgJz"
   },
   "outputs": [],
   "source": [
    "def pad_sequence(text, desired_sequence_lenght= 57):\n",
    "  xcopy = deepcopy(text)\n",
    "\n",
    "  for i , x in enumerate(text):\n",
    "    x_seq_len = x.shape[0]\n",
    "    sequence_lenght_difference = desired_sequence_lenght - x_seq_len\n",
    "\n",
    "    pad = np.zeros(shape=(sequence_lenght_difference, 50))\n",
    "\n",
    "    xcopy[i] = np.concatenate([x, pad])\n",
    "\n",
    "  return np.array(xcopy).astype(float)"
   ]
  },
  {
   "cell_type": "code",
   "execution_count": 79,
   "metadata": {
    "colab": {
     "base_uri": "https://localhost:8080/"
    },
    "id": "PeRklNu9IgFJ",
    "outputId": "2908b396-ec5f-42e5-d67f-34f796afc507"
   },
   "outputs": [
    {
     "data": {
      "text/plain": [
       "(31322, 57, 50)"
      ]
     },
     "execution_count": 79,
     "metadata": {},
     "output_type": "execute_result"
    }
   ],
   "source": [
    "xtrain_pad = pad_sequence(xtrain)\n",
    "xtrain_pad.shape"
   ]
  },
  {
   "cell_type": "code",
   "execution_count": 80,
   "metadata": {
    "colab": {
     "base_uri": "https://localhost:8080/"
    },
    "id": "b8npg4YBOt0Y",
    "outputId": "9a60c651-24b7-476a-f568-379b50e97820"
   },
   "outputs": [
    {
     "data": {
      "text/plain": [
       "(320, 57, 50)"
      ]
     },
     "execution_count": 80,
     "metadata": {},
     "output_type": "execute_result"
    }
   ],
   "source": [
    "xtest_pad = pad_sequence(xtest)\n",
    "xtest_pad.shape"
   ]
  },
  {
   "cell_type": "code",
   "execution_count": 81,
   "metadata": {
    "colab": {
     "base_uri": "https://localhost:8080/"
    },
    "id": "JO7BMXVRPD64",
    "outputId": "63509481-d8a1-4ae5-c07e-3e7190366504"
   },
   "outputs": [
    {
     "data": {
      "text/plain": [
       "(320, 57, 50)"
      ]
     },
     "execution_count": 81,
     "metadata": {},
     "output_type": "execute_result"
    }
   ],
   "source": [
    "xval_pad = pad_sequence(X_val)\n",
    "xval_pad.shape"
   ]
  },
  {
   "cell_type": "markdown",
   "metadata": {
    "id": "nUiHj4ZnUvuh"
   },
   "source": [
    "# **LSTM MODEL**"
   ]
  },
  {
   "cell_type": "code",
   "execution_count": 82,
   "metadata": {
    "colab": {
     "base_uri": "https://localhost:8080/"
    },
    "id": "GlTkiAJnwGyg",
    "outputId": "6aee4743-5d67-4a83-a5a9-fa90b2024384"
   },
   "outputs": [
    {
     "name": "stdout",
     "output_type": "stream",
     "text": [
      "Model: \"sequential_1\"\n",
      "_________________________________________________________________\n",
      " Layer (type)                Output Shape              Param #   \n",
      "=================================================================\n",
      " lstm_4 (LSTM)               (None, 57, 256)           314368    \n",
      "                                                                 \n",
      " dropout_5 (Dropout)         (None, 57, 256)           0         \n",
      "                                                                 \n",
      " lstm_5 (LSTM)               (None, 57, 128)           197120    \n",
      "                                                                 \n",
      " layer_normalization_2 (Laye  (None, 57, 128)          256       \n",
      " rNormalization)                                                 \n",
      "                                                                 \n",
      " dropout_6 (Dropout)         (None, 57, 128)           0         \n",
      "                                                                 \n",
      " dropout_7 (Dropout)         (None, 57, 128)           0         \n",
      "                                                                 \n",
      " lstm_6 (LSTM)               (None, 57, 64)            49408     \n",
      "                                                                 \n",
      " dropout_8 (Dropout)         (None, 57, 64)            0         \n",
      "                                                                 \n",
      " lstm_7 (LSTM)               (None, 57, 32)            12416     \n",
      "                                                                 \n",
      " layer_normalization_3 (Laye  (None, 57, 32)           64        \n",
      " rNormalization)                                                 \n",
      "                                                                 \n",
      " dropout_9 (Dropout)         (None, 57, 32)            0         \n",
      "                                                                 \n",
      " flatten_1 (Flatten)         (None, 1824)              0         \n",
      "                                                                 \n",
      " dense_1 (Dense)             (None, 1)                 1825      \n",
      "                                                                 \n",
      "=================================================================\n",
      "Total params: 575,457\n",
      "Trainable params: 575,457\n",
      "Non-trainable params: 0\n",
      "_________________________________________________________________\n"
     ]
    }
   ],
   "source": [
    "\n",
    "model = Sequential([])\n",
    "\n",
    "model.add(layers.Input(shape=(57, 50)))\n",
    "model.add(layers.LSTM(256, return_sequences=True))\n",
    "model.add(layers.Dropout(0.3))\n",
    "model.add(layers.LSTM(128, return_sequences=True))\n",
    "model.add(layers.LayerNormalization())\n",
    "model.add(layers.Dropout(0.3))\n",
    "model.add(layers.Dropout(0.3))\n",
    "model.add(layers.LSTM(64, return_sequences=True))\n",
    "model.add(layers.Dropout(0.3))\n",
    "model.add(layers.LSTM(32, return_sequences=True))\n",
    "model.add(layers.LayerNormalization())\n",
    "model.add(layers.Dropout(0.3))\n",
    "model.add(layers.Flatten())\n",
    "\n",
    "model.add(layers.Dense(1, activation='sigmoid'))\n",
    "model.compile(optimizer='Adam', loss= MeanSquaredError(),  metrics=['accuracy'])\n",
    "\n",
    "model.summary()"
   ]
  },
  {
   "cell_type": "code",
   "execution_count": 83,
   "metadata": {
    "colab": {
     "base_uri": "https://localhost:8080/"
    },
    "id": "sR0kj1EkSTfC",
    "outputId": "2ada9ee7-a1d9-4e0f-cc07-91b9f025610f"
   },
   "outputs": [],
   "source": [
    "# weights = class_weight.compute_class_weight(class_weight='balanced' ,classes= np.unique(ytrain) , y = df_train['label'].to_numpy().astype(int))\n",
    "# weights = {i : weights[i] for i in range(2)}\n",
    "# weights\n",
    "weights = {0:1, 1:20}"
   ]
  },
  {
   "cell_type": "code",
   "execution_count": 84,
   "metadata": {
    "colab": {
     "base_uri": "https://localhost:8080/"
    },
    "id": "HvHCpF8FxY-U",
    "outputId": "27c76c1c-583f-4467-9598-e3f9f008c32c"
   },
   "outputs": [
    {
     "name": "stdout",
     "output_type": "stream",
     "text": [
      "Epoch 1/50\n",
      "979/979 [==============================] - 87s 85ms/step - loss: 0.5407 - accuracy: 0.6288 - val_loss: 0.1576 - val_accuracy: 0.7406\n",
      "Epoch 2/50\n",
      "979/979 [==============================] - 90s 92ms/step - loss: 0.4311 - accuracy: 0.6968 - val_loss: 0.1870 - val_accuracy: 0.7719\n",
      "Epoch 3/50\n",
      "979/979 [==============================] - 84s 86ms/step - loss: 0.3663 - accuracy: 0.7456 - val_loss: 0.1596 - val_accuracy: 0.8250\n",
      "Epoch 4/50\n",
      "979/979 [==============================] - 141s 144ms/step - loss: 0.3279 - accuracy: 0.7710 - val_loss: 0.2673 - val_accuracy: 0.6781\n",
      "Epoch 5/50\n",
      "979/979 [==============================] - 87s 89ms/step - loss: 0.2831 - accuracy: 0.7932 - val_loss: 0.2032 - val_accuracy: 0.7750\n",
      "Epoch 6/50\n",
      "979/979 [==============================] - 119s 122ms/step - loss: 0.2656 - accuracy: 0.8095 - val_loss: 0.1279 - val_accuracy: 0.8281\n",
      "Epoch 7/50\n",
      "979/979 [==============================] - 100s 103ms/step - loss: 0.2410 - accuracy: 0.8265 - val_loss: 0.1281 - val_accuracy: 0.8313\n",
      "Epoch 8/50\n",
      "979/979 [==============================] - 90s 92ms/step - loss: 0.2352 - accuracy: 0.8363 - val_loss: 0.1610 - val_accuracy: 0.8031\n",
      "Epoch 9/50\n",
      "979/979 [==============================] - 129s 132ms/step - loss: 0.2159 - accuracy: 0.8453 - val_loss: 0.1181 - val_accuracy: 0.8438\n",
      "Epoch 10/50\n",
      "979/979 [==============================] - 86s 88ms/step - loss: 0.1920 - accuracy: 0.8619 - val_loss: 0.1140 - val_accuracy: 0.8656\n",
      "Epoch 11/50\n",
      "979/979 [==============================] - 123s 126ms/step - loss: 0.1794 - accuracy: 0.8717 - val_loss: 0.0832 - val_accuracy: 0.8750\n",
      "Epoch 12/50\n",
      "979/979 [==============================] - 97s 99ms/step - loss: 0.1628 - accuracy: 0.8856 - val_loss: 0.1207 - val_accuracy: 0.8406\n",
      "Epoch 13/50\n",
      "979/979 [==============================] - 96s 98ms/step - loss: 0.1524 - accuracy: 0.8945 - val_loss: 0.1147 - val_accuracy: 0.8469\n",
      "Epoch 14/50\n",
      "979/979 [==============================] - 124s 126ms/step - loss: 0.1440 - accuracy: 0.9036 - val_loss: 0.0924 - val_accuracy: 0.8875\n",
      "Epoch 15/50\n",
      "979/979 [==============================] - 85s 87ms/step - loss: 0.1351 - accuracy: 0.9001 - val_loss: 0.0876 - val_accuracy: 0.8969\n",
      "Epoch 16/50\n",
      "979/979 [==============================] - 128s 131ms/step - loss: 0.1264 - accuracy: 0.9104 - val_loss: 0.0988 - val_accuracy: 0.8719\n",
      "Epoch 17/50\n",
      "979/979 [==============================] - 94s 96ms/step - loss: 0.1148 - accuracy: 0.9229 - val_loss: 0.0908 - val_accuracy: 0.8875\n",
      "Epoch 18/50\n",
      "979/979 [==============================] - 104s 106ms/step - loss: 0.1148 - accuracy: 0.9186 - val_loss: 0.0882 - val_accuracy: 0.9031\n",
      "Epoch 19/50\n",
      "979/979 [==============================] - 104s 106ms/step - loss: 0.0966 - accuracy: 0.9373 - val_loss: 0.0592 - val_accuracy: 0.9219\n",
      "Epoch 20/50\n",
      "979/979 [==============================] - 89s 91ms/step - loss: 0.0944 - accuracy: 0.9383 - val_loss: 0.0630 - val_accuracy: 0.9187\n",
      "Epoch 21/50\n",
      "979/979 [==============================] - 90s 92ms/step - loss: 0.0941 - accuracy: 0.9359 - val_loss: 0.0757 - val_accuracy: 0.9156\n",
      "Epoch 22/50\n",
      "979/979 [==============================] - 90s 92ms/step - loss: 0.0855 - accuracy: 0.9450 - val_loss: 0.0676 - val_accuracy: 0.9250\n",
      "Epoch 23/50\n",
      "979/979 [==============================] - 90s 92ms/step - loss: 0.0764 - accuracy: 0.9457 - val_loss: 0.1074 - val_accuracy: 0.8687\n",
      "Epoch 24/50\n",
      "979/979 [==============================] - 90s 92ms/step - loss: 0.0781 - accuracy: 0.9435 - val_loss: 0.0627 - val_accuracy: 0.9281\n",
      "Epoch 25/50\n",
      "979/979 [==============================] - 91s 93ms/step - loss: 0.0728 - accuracy: 0.9542 - val_loss: 0.0618 - val_accuracy: 0.9375\n",
      "Epoch 26/50\n",
      "979/979 [==============================] - 90s 92ms/step - loss: 0.0701 - accuracy: 0.9533 - val_loss: 0.0583 - val_accuracy: 0.9312\n",
      "Epoch 27/50\n",
      "979/979 [==============================] - 90s 92ms/step - loss: 0.0644 - accuracy: 0.9556 - val_loss: 0.0740 - val_accuracy: 0.9062\n",
      "Epoch 28/50\n",
      "979/979 [==============================] - 91s 93ms/step - loss: 0.0651 - accuracy: 0.9569 - val_loss: 0.0518 - val_accuracy: 0.9375\n",
      "Epoch 29/50\n",
      "979/979 [==============================] - 90s 92ms/step - loss: 0.0664 - accuracy: 0.9530 - val_loss: 0.0639 - val_accuracy: 0.9250\n",
      "Epoch 30/50\n",
      "979/979 [==============================] - 91s 92ms/step - loss: 0.0547 - accuracy: 0.9655 - val_loss: 0.0792 - val_accuracy: 0.9125\n",
      "Epoch 31/50\n",
      "979/979 [==============================] - 96s 98ms/step - loss: 0.0615 - accuracy: 0.9521 - val_loss: 0.0528 - val_accuracy: 0.9344\n",
      "Epoch 32/50\n",
      "979/979 [==============================] - 93s 94ms/step - loss: 0.0608 - accuracy: 0.9583 - val_loss: 0.0685 - val_accuracy: 0.9219\n",
      "Epoch 33/50\n",
      "979/979 [==============================] - 90s 92ms/step - loss: 0.0466 - accuracy: 0.9678 - val_loss: 0.0429 - val_accuracy: 0.9500\n",
      "Epoch 34/50\n",
      "979/979 [==============================] - 91s 93ms/step - loss: 0.0529 - accuracy: 0.9618 - val_loss: 0.0763 - val_accuracy: 0.9187\n",
      "Epoch 35/50\n",
      "979/979 [==============================] - 91s 93ms/step - loss: 0.0554 - accuracy: 0.9608 - val_loss: 0.0629 - val_accuracy: 0.9312\n",
      "Epoch 36/50\n",
      "979/979 [==============================] - 92s 94ms/step - loss: 0.0525 - accuracy: 0.9620 - val_loss: 0.0577 - val_accuracy: 0.9375\n",
      "Epoch 37/50\n",
      "979/979 [==============================] - 92s 94ms/step - loss: 0.0468 - accuracy: 0.9649 - val_loss: 0.1208 - val_accuracy: 0.8656\n",
      "Epoch 38/50\n",
      "979/979 [==============================] - 96s 98ms/step - loss: 0.0477 - accuracy: 0.9658 - val_loss: 0.0524 - val_accuracy: 0.9406\n",
      "Epoch 39/50\n",
      "979/979 [==============================] - 94s 96ms/step - loss: 0.0439 - accuracy: 0.9665 - val_loss: 0.0654 - val_accuracy: 0.9219\n",
      "Epoch 40/50\n",
      "979/979 [==============================] - 90s 92ms/step - loss: 0.0546 - accuracy: 0.9608 - val_loss: 0.0619 - val_accuracy: 0.9344\n",
      "Epoch 41/50\n",
      "979/979 [==============================] - 91s 93ms/step - loss: 0.0432 - accuracy: 0.9694 - val_loss: 0.0548 - val_accuracy: 0.9438\n",
      "Epoch 42/50\n",
      "979/979 [==============================] - 91s 93ms/step - loss: 0.0425 - accuracy: 0.9740 - val_loss: 0.0560 - val_accuracy: 0.9438\n",
      "Epoch 43/50\n",
      "979/979 [==============================] - 91s 93ms/step - loss: 0.0446 - accuracy: 0.9684 - val_loss: 0.0543 - val_accuracy: 0.9375\n",
      "Epoch 44/50\n",
      "979/979 [==============================] - 91s 93ms/step - loss: 0.0354 - accuracy: 0.9751 - val_loss: 0.0539 - val_accuracy: 0.9406\n",
      "Epoch 45/50\n",
      "979/979 [==============================] - 91s 93ms/step - loss: 0.0421 - accuracy: 0.9677 - val_loss: 0.0503 - val_accuracy: 0.9406\n",
      "Epoch 46/50\n",
      "979/979 [==============================] - 91s 93ms/step - loss: 0.0366 - accuracy: 0.9742 - val_loss: 0.0483 - val_accuracy: 0.9500\n",
      "Epoch 47/50\n",
      "979/979 [==============================] - 91s 93ms/step - loss: 0.0404 - accuracy: 0.9691 - val_loss: 0.0529 - val_accuracy: 0.9375\n",
      "Epoch 48/50\n",
      "979/979 [==============================] - 92s 94ms/step - loss: 0.0499 - accuracy: 0.9705 - val_loss: 0.0611 - val_accuracy: 0.9281\n",
      "Epoch 49/50\n",
      "979/979 [==============================] - 92s 94ms/step - loss: 0.0387 - accuracy: 0.9762 - val_loss: 0.0590 - val_accuracy: 0.9344\n",
      "Epoch 50/50\n",
      "979/979 [==============================] - 93s 95ms/step - loss: 0.0338 - accuracy: 0.9759 - val_loss: 0.0525 - val_accuracy: 0.9438\n"
     ]
    }
   ],
   "source": [
    "history = model.fit(xtrain_pad, ytrain, validation_data=(xtest_pad, ytest), epochs=50, class_weight=weights)"
   ]
  },
  {
   "cell_type": "markdown",
   "metadata": {
    "id": "04Nh1PqQWdYe"
   },
   "source": [
    "# **Evaluation**"
   ]
  },
  {
   "cell_type": "code",
   "execution_count": 85,
   "metadata": {
    "colab": {
     "base_uri": "https://localhost:8080/",
     "height": 430
    },
    "id": "eD5qUCDRhvmD",
    "outputId": "d7ed040c-1b9a-4753-ca6e-abacf524d97f"
   },
   "outputs": [
    {
     "data": {
      "image/png": "[encoded data removed]",
      "text/plain": [
       "<Figure size 640x480 with 1 Axes>"
      ]
     },
     "metadata": {},
     "output_type": "display_data"
    }
   ],
   "source": [
    "plt.plot(history.history[\"accuracy\"], label=\"training accuracy\", color = 'black')\n",
    "plt.plot(history.history[\"val_accuracy\"], label=\"validation accuracy\", color = 'red')\n",
    "plt.legend()\n",
    "plt.show()"
   ]
  },
  {
   "cell_type": "code",
   "execution_count": null,
   "metadata": {
    "colab": {
     "base_uri": "https://localhost:8080/"
    },
    "id": "uK2sPRgFyJJh",
    "outputId": "0d4cf9e1-07a0-4911-ef52-e36feb0b6973"
   },
   "outputs": [],
   "source": [
    "ypred = (model.predict(xval_pad) > 0.5).astype(int)\n",
    "ypred"
   ]
  },
  {
   "cell_type": "code",
   "execution_count": 87,
   "metadata": {
    "colab": {
     "base_uri": "https://localhost:8080/"
    },
    "id": "eaCOsIJVWLG9",
    "outputId": "3a738dbd-b5c4-40dd-eab7-527128464ab5"
   },
   "outputs": [
    {
     "name": "stdout",
     "output_type": "stream",
     "text": [
      "              precision    recall  f1-score   support\n",
      "\n",
      "           0       1.00      0.98      0.99     29131\n",
      "           1       0.76      0.99      0.86      2191\n",
      "\n",
      "    accuracy                           0.98     31322\n",
      "   macro avg       0.88      0.98      0.92     31322\n",
      "weighted avg       0.98      0.98      0.98     31322\n",
      "\n"
     ]
    }
   ],
   "source": [
    "from sklearn.metrics import classification_report\n",
    "ypred_train = (model.predict(xtrain_pad) > 0.5).astype(int)\n",
    "print(classification_report(ytrain, ypred_train))"
   ]
  },
  {
   "cell_type": "code",
   "execution_count": 88,
   "metadata": {},
   "outputs": [
    {
     "name": "stdout",
     "output_type": "stream",
     "text": [
      "              precision    recall  f1-score   support\n",
      "\n",
      "           0       0.99      0.96      0.97       296\n",
      "           1       0.62      0.88      0.72        24\n",
      "\n",
      "    accuracy                           0.95       320\n",
      "   macro avg       0.80      0.92      0.85       320\n",
      "weighted avg       0.96      0.95      0.95       320\n",
      "\n"
     ]
    }
   ],
   "source": [
    "from sklearn.metrics import classification_report\n",
    "\n",
    "print(classification_report(y_val, ypred))"
   ]
  },
  {
   "cell_type": "code",
   "execution_count": 89,
   "metadata": {
    "colab": {
     "base_uri": "https://localhost:8080/"
    },
    "id": "2kG0El2iwCAV",
    "outputId": "b3776dc6-dedb-4640-a049-4ec872324a95"
   },
   "outputs": [
    {
     "name": "stdout",
     "output_type": "stream",
     "text": [
      " 5/10 [==============>...............] - ETA: 0s - loss: 0.0380 - accuracy: 0.9500"
     ]
    },
    {
     "name": "stdout",
     "output_type": "stream",
     "text": [
      "10/10 [==============================] - 0s 34ms/step - loss: 0.0421 - accuracy: 0.9500\n"
     ]
    },
    {
     "data": {
      "text/plain": [
       "[0.042110875248909, 0.949999988079071]"
      ]
     },
     "execution_count": 89,
     "metadata": {},
     "output_type": "execute_result"
    }
   ],
   "source": [
    "model.evaluate(xval_pad, y_val)"
   ]
  }
 ],
 "metadata": {
  "accelerator": "GPU",
  "colab": {
   "provenance": []
  },
  "kernelspec": {
   "display_name": "Python 3 (ipykernel)",
   "language": "python",
   "name": "python3"
  },
  "language_info": {
   "codemirror_mode": {
    "name": "ipython",
    "version": 3
   },
   "file_extension": ".py",
   "mimetype": "text/x-python",
   "name": "python",
   "nbconvert_exporter": "python",
   "pygments_lexer": "ipython3",
   "version": "3.10.11"
  }
 },
 "nbformat": 4,
 "nbformat_minor": 1
}
